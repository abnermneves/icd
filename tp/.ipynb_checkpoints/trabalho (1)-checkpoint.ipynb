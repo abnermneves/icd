{
 "cells": [
  {
   "cell_type": "code",
   "execution_count": 1,
   "metadata": {
    "colab": {
     "base_uri": "https://localhost:8080/"
    },
    "id": "3Tt9h20Pdxmc",
    "outputId": "0eb0af62-19b7-4065-982d-bd8ae6dca171"
   },
   "outputs": [
    {
     "name": "stdout",
     "output_type": "stream",
     "text": [
      "Drive already mounted at /content/drive/; to attempt to forcibly remount, call drive.mount(\"/content/drive/\", force_remount=True).\n"
     ]
    }
   ],
   "source": [
    "from google.colab import drive\n",
    "drive.mount('/content/drive/')\n"
   ]
  },
  {
   "cell_type": "code",
   "execution_count": 1,
   "metadata": {
    "id": "9bMRwG7fPKvv"
   },
   "outputs": [],
   "source": [
    "#!pip install -q xlrd\n",
    "import numpy as np\n",
    "import pandas as pd\n",
    "import re\n",
    "import math\n",
    "import matplotlib.pyplot as plt\n",
    "import seaborn as sns"
   ]
  },
  {
   "cell_type": "code",
   "execution_count": 3,
   "metadata": {
    "id": "AL4csblVd-Xj"
   },
   "outputs": [],
   "source": [
    "hot = pd.read_csv('Hot Stuff.csv', encoding='utf-8')\n",
    "features = pd.read_excel('Hot 100 Audio Features.xlsx')"
   ]
  },
  {
   "cell_type": "markdown",
   "metadata": {
    "id": "LasJIM2LlP2s"
   },
   "source": [
    "<h1>Limpeza e organização dos dados</h1>"
   ]
  },
  {
   "cell_type": "code",
   "execution_count": 4,
   "metadata": {
    "colab": {
     "base_uri": "https://localhost:8080/"
    },
    "id": "iFaEXY9Ot85F",
    "outputId": "052473bc-e873-44a1-b8a2-a6b0590831c7"
   },
   "outputs": [
    {
     "data": {
      "text/plain": [
       "(28377, 22)"
      ]
     },
     "execution_count": 4,
     "metadata": {},
     "output_type": "execute_result"
    }
   ],
   "source": [
    "# tirando duplicatas\n",
    "features.drop_duplicates(subset='SongID', inplace=True, keep='last', ignore_index=True)\n",
    "features.shape"
   ]
  },
  {
   "cell_type": "code",
   "execution_count": 5,
   "metadata": {
    "id": "P39C9hHDlOoS"
   },
   "outputs": [],
   "source": [
    "# separando a coluna de gêneros e criando variáveis categóricas para eles\n",
    "\n",
    "features['spotify_genre'].replace(to_replace=\"[\\[\\]\\'\\\"]|^ \", value=\"\", inplace=True, regex=True)\n",
    "features['spotify_genre'].replace(to_replace=\", +\", value=\",\", inplace=True, regex=True)\n",
    "dummies = features['spotify_genre'].str.get_dummies(sep=',')\n",
    "genres = dummies.columns.values\n",
    "features[dummies.columns.values] = dummies"
   ]
  },
  {
   "cell_type": "markdown",
   "metadata": {
    "id": "-2YWspF3Vecq"
   },
   "source": [
    "<h1>Previsão da posição de uma música no chart a partir de suas características</h1>"
   ]
  },
  {
   "cell_type": "code",
   "execution_count": 6,
   "metadata": {
    "id": "pr6LB9JdXGnY"
   },
   "outputs": [],
   "source": [
    "from sklearn.model_selection import train_test_split\n",
    "from sklearn.preprocessing import StandardScaler\n",
    "from sklearn.model_selection import GridSearchCV\n",
    "from sklearn.neighbors import KNeighborsClassifier"
   ]
  },
  {
   "cell_type": "code",
   "execution_count": 7,
   "metadata": {
    "colab": {
     "base_uri": "https://localhost:8080/",
     "height": 462
    },
    "id": "yghuE1Jbfv4j",
    "outputId": "2b3870bb-29ea-4af9-9c58-70336acf0158"
   },
   "outputs": [
    {
     "data": {
      "text/html": [
       "<div>\n",
       "<style scoped>\n",
       "    .dataframe tbody tr th:only-of-type {\n",
       "        vertical-align: middle;\n",
       "    }\n",
       "\n",
       "    .dataframe tbody tr th {\n",
       "        vertical-align: top;\n",
       "    }\n",
       "\n",
       "    .dataframe thead th {\n",
       "        text-align: right;\n",
       "    }\n",
       "</style>\n",
       "<table border=\"1\" class=\"dataframe\">\n",
       "  <thead>\n",
       "    <tr style=\"text-align: right;\">\n",
       "      <th></th>\n",
       "      <th>url</th>\n",
       "      <th>WeekID</th>\n",
       "      <th>Week Position</th>\n",
       "      <th>Song</th>\n",
       "      <th>Performer</th>\n",
       "      <th>SongID</th>\n",
       "      <th>Instance</th>\n",
       "      <th>Previous Week Position</th>\n",
       "      <th>Peak Position</th>\n",
       "      <th>Weeks on Chart</th>\n",
       "      <th>...</th>\n",
       "      <th>worship</th>\n",
       "      <th>wrestling</th>\n",
       "      <th>wu fam</th>\n",
       "      <th>xhosa</th>\n",
       "      <th>yacht rock</th>\n",
       "      <th>ye ye</th>\n",
       "      <th>yodeling</th>\n",
       "      <th>yugoslav rock</th>\n",
       "      <th>zolo</th>\n",
       "      <th>zydeco</th>\n",
       "    </tr>\n",
       "  </thead>\n",
       "  <tbody>\n",
       "    <tr>\n",
       "      <th>0</th>\n",
       "      <td>http://www.billboard.com/charts/hot-100/1958-0...</td>\n",
       "      <td>8/2/1958</td>\n",
       "      <td>1</td>\n",
       "      <td>Poor Little Fool</td>\n",
       "      <td>Ricky Nelson</td>\n",
       "      <td>Poor Little FoolRicky Nelson</td>\n",
       "      <td>1</td>\n",
       "      <td>NaN</td>\n",
       "      <td>1</td>\n",
       "      <td>1</td>\n",
       "      <td>...</td>\n",
       "      <td>NaN</td>\n",
       "      <td>NaN</td>\n",
       "      <td>NaN</td>\n",
       "      <td>NaN</td>\n",
       "      <td>NaN</td>\n",
       "      <td>NaN</td>\n",
       "      <td>NaN</td>\n",
       "      <td>NaN</td>\n",
       "      <td>NaN</td>\n",
       "      <td>NaN</td>\n",
       "    </tr>\n",
       "    <tr>\n",
       "      <th>1</th>\n",
       "      <td>http://www.billboard.com/charts/hot-100/1995-1...</td>\n",
       "      <td>12/2/1995</td>\n",
       "      <td>1</td>\n",
       "      <td>One Sweet Day</td>\n",
       "      <td>Mariah Carey &amp; Boyz II Men</td>\n",
       "      <td>One Sweet DayMariah Carey &amp; Boyz II Men</td>\n",
       "      <td>1</td>\n",
       "      <td>NaN</td>\n",
       "      <td>1</td>\n",
       "      <td>1</td>\n",
       "      <td>...</td>\n",
       "      <td>NaN</td>\n",
       "      <td>NaN</td>\n",
       "      <td>NaN</td>\n",
       "      <td>NaN</td>\n",
       "      <td>NaN</td>\n",
       "      <td>NaN</td>\n",
       "      <td>NaN</td>\n",
       "      <td>NaN</td>\n",
       "      <td>NaN</td>\n",
       "      <td>NaN</td>\n",
       "    </tr>\n",
       "    <tr>\n",
       "      <th>2</th>\n",
       "      <td>http://www.billboard.com/charts/hot-100/1997-1...</td>\n",
       "      <td>10/11/1997</td>\n",
       "      <td>1</td>\n",
       "      <td>Candle In The Wind 1997/Something About The Wa...</td>\n",
       "      <td>Elton John</td>\n",
       "      <td>Candle In The Wind 1997/Something About The Wa...</td>\n",
       "      <td>1</td>\n",
       "      <td>NaN</td>\n",
       "      <td>1</td>\n",
       "      <td>1</td>\n",
       "      <td>...</td>\n",
       "      <td>NaN</td>\n",
       "      <td>NaN</td>\n",
       "      <td>NaN</td>\n",
       "      <td>NaN</td>\n",
       "      <td>NaN</td>\n",
       "      <td>NaN</td>\n",
       "      <td>NaN</td>\n",
       "      <td>NaN</td>\n",
       "      <td>NaN</td>\n",
       "      <td>NaN</td>\n",
       "    </tr>\n",
       "    <tr>\n",
       "      <th>3</th>\n",
       "      <td>http://www.billboard.com/charts/hot-100/2006-0...</td>\n",
       "      <td>7/1/2006</td>\n",
       "      <td>1</td>\n",
       "      <td>Do I Make You Proud</td>\n",
       "      <td>Taylor Hicks</td>\n",
       "      <td>Do I Make You ProudTaylor Hicks</td>\n",
       "      <td>1</td>\n",
       "      <td>NaN</td>\n",
       "      <td>1</td>\n",
       "      <td>1</td>\n",
       "      <td>...</td>\n",
       "      <td>NaN</td>\n",
       "      <td>NaN</td>\n",
       "      <td>NaN</td>\n",
       "      <td>NaN</td>\n",
       "      <td>NaN</td>\n",
       "      <td>NaN</td>\n",
       "      <td>NaN</td>\n",
       "      <td>NaN</td>\n",
       "      <td>NaN</td>\n",
       "      <td>NaN</td>\n",
       "    </tr>\n",
       "    <tr>\n",
       "      <th>4</th>\n",
       "      <td>http://www.billboard.com/charts/hot-100/2009-1...</td>\n",
       "      <td>10/24/2009</td>\n",
       "      <td>1</td>\n",
       "      <td>3</td>\n",
       "      <td>Britney Spears</td>\n",
       "      <td>3Britney Spears</td>\n",
       "      <td>1</td>\n",
       "      <td>NaN</td>\n",
       "      <td>1</td>\n",
       "      <td>1</td>\n",
       "      <td>...</td>\n",
       "      <td>NaN</td>\n",
       "      <td>NaN</td>\n",
       "      <td>NaN</td>\n",
       "      <td>NaN</td>\n",
       "      <td>NaN</td>\n",
       "      <td>NaN</td>\n",
       "      <td>NaN</td>\n",
       "      <td>NaN</td>\n",
       "      <td>NaN</td>\n",
       "      <td>NaN</td>\n",
       "    </tr>\n",
       "  </tbody>\n",
       "</table>\n",
       "<p>5 rows × 1147 columns</p>\n",
       "</div>"
      ],
      "text/plain": [
       "                                                 url      WeekID  \\\n",
       "0  http://www.billboard.com/charts/hot-100/1958-0...    8/2/1958   \n",
       "1  http://www.billboard.com/charts/hot-100/1995-1...   12/2/1995   \n",
       "2  http://www.billboard.com/charts/hot-100/1997-1...  10/11/1997   \n",
       "3  http://www.billboard.com/charts/hot-100/2006-0...    7/1/2006   \n",
       "4  http://www.billboard.com/charts/hot-100/2009-1...  10/24/2009   \n",
       "\n",
       "   Week Position                                               Song  \\\n",
       "0              1                                   Poor Little Fool   \n",
       "1              1                                      One Sweet Day   \n",
       "2              1  Candle In The Wind 1997/Something About The Wa...   \n",
       "3              1                                Do I Make You Proud   \n",
       "4              1                                                  3   \n",
       "\n",
       "                    Performer  \\\n",
       "0                Ricky Nelson   \n",
       "1  Mariah Carey & Boyz II Men   \n",
       "2                  Elton John   \n",
       "3                Taylor Hicks   \n",
       "4              Britney Spears   \n",
       "\n",
       "                                              SongID  Instance  \\\n",
       "0                       Poor Little FoolRicky Nelson         1   \n",
       "1            One Sweet DayMariah Carey & Boyz II Men         1   \n",
       "2  Candle In The Wind 1997/Something About The Wa...         1   \n",
       "3                    Do I Make You ProudTaylor Hicks         1   \n",
       "4                                    3Britney Spears         1   \n",
       "\n",
       "   Previous Week Position  Peak Position  Weeks on Chart  ... worship  \\\n",
       "0                     NaN              1               1  ...     NaN   \n",
       "1                     NaN              1               1  ...     NaN   \n",
       "2                     NaN              1               1  ...     NaN   \n",
       "3                     NaN              1               1  ...     NaN   \n",
       "4                     NaN              1               1  ...     NaN   \n",
       "\n",
       "  wrestling wu fam xhosa  yacht rock  ye ye  yodeling  yugoslav rock  zolo  \\\n",
       "0       NaN    NaN   NaN         NaN    NaN       NaN            NaN   NaN   \n",
       "1       NaN    NaN   NaN         NaN    NaN       NaN            NaN   NaN   \n",
       "2       NaN    NaN   NaN         NaN    NaN       NaN            NaN   NaN   \n",
       "3       NaN    NaN   NaN         NaN    NaN       NaN            NaN   NaN   \n",
       "4       NaN    NaN   NaN         NaN    NaN       NaN            NaN   NaN   \n",
       "\n",
       "   zydeco  \n",
       "0     NaN  \n",
       "1     NaN  \n",
       "2     NaN  \n",
       "3     NaN  \n",
       "4     NaN  \n",
       "\n",
       "[5 rows x 1147 columns]"
      ]
     },
     "execution_count": 7,
     "metadata": {},
     "output_type": "execute_result"
    }
   ],
   "source": [
    "# convertendo para o mesmo tipo, pra poder fazer um join\n",
    "features['SongID'].astype('object', copy=False)\n",
    "hot['SongID'].astype('object', copy=False)\n",
    "df = hot.merge(features.drop(['Song', 'Performer'], axis=1), on='SongID', how='left')\n",
    "df.head()"
   ]
  },
  {
   "cell_type": "code",
   "execution_count": null,
   "metadata": {
    "id": "0JcAi_d_j3CQ"
   },
   "outputs": [],
   "source": []
  },
  {
   "cell_type": "code",
   "execution_count": null,
   "metadata": {
    "id": "VZonPwo3kFvA"
   },
   "outputs": [],
   "source": [
    "caracteristicas = ['spotify_track_explicit',\n",
    "                   'spotify_track_duration_ms',\n",
    "                   'spotify_track_popularity',\n",
    "                   'danceability',\n",
    "                   'energy',\n",
    "                   'key',\n",
    "                   'loudness',\n",
    "                   'mode',\n",
    "                   'speechiness',\n",
    "                   'acousticness',\n",
    "                   'instrumentalness',\n",
    "                   'liveness',\n",
    "                   'valence',\n",
    "                   'tempo',\n",
    "                   'time_signature']\n",
    "\n",
    "# 'key', 'mode', 'spotify_track_explicit' são categóricas\n",
    "numericas = ['spotify_track_duration_ms',\n",
    "             'spotify_track_popularity',\n",
    "             'danceability',\n",
    "             'energy',\n",
    "             'loudness',\n",
    "             'speechiness',\n",
    "             'acousticness',\n",
    "             'instrumentalness',\n",
    "             'liveness',\n",
    "             'valence',\n",
    "             'tempo',\n",
    "             'time_signature']\n",
    "\n",
    "# separando X e Y\n",
    "y = df['Week Position'].copy()\n",
    "X = df[caracteristicas].copy()\n",
    "\n",
    "# eliminando NaNs\n",
    "y = y[(X == X).all(axis=1)]\n",
    "X = X[(X == X).all(axis=1)]"
   ]
  },
  {
   "cell_type": "code",
   "execution_count": null,
   "metadata": {
    "id": "rdmRBFUHVc9q"
   },
   "outputs": [],
   "source": [
    "# separando grupos de teste e validação\n",
    "\n",
    "X_train, X_test, y_train, y_test = train_test_split(X, y, test_size=0.25)\n",
    "print(X_train.shape, X_test.shape)\n"
   ]
  },
  {
   "cell_type": "code",
   "execution_count": null,
   "metadata": {
    "id": "Y8DB4lBSVdHY"
   },
   "outputs": [],
   "source": [
    "# z-normalizando\n",
    "\n",
    "mean = np.mean(X_train[numericas])\n",
    "std = np.std(X_train[numericas], ddof=1)\n",
    "\n",
    "Z_train = X_train.copy()\n",
    "Z_train[numericas] = X_train[numericas] - mean\n",
    "Z_train[numericas] = Z_train[numericas] / std\n",
    "\n",
    "Z_test = X_test.copy()\n",
    "Z_test[numericas] = X_test[numericas] - mean\n",
    "Z_test[numericas] = Z_test[numericas] / std"
   ]
  },
  {
   "cell_type": "code",
   "execution_count": 11,
   "metadata": {
    "id": "f9LB2kmsykQr"
   },
   "outputs": [],
   "source": [
    "# Melhor k = 5\n",
    "# definindo aqui para não ter que rodar a célula de baixo toda vez\n",
    "k = 5"
   ]
  },
  {
   "cell_type": "code",
   "execution_count": 17,
   "metadata": {
    "colab": {
     "base_uri": "https://localhost:8080/",
     "height": 52
    },
    "id": "UoUScQeFylIT",
    "outputId": "9ac715a5-79a9-4d1e-ed2a-bf01bac2dbdb"
   },
   "outputs": [
    {
     "data": {
      "application/vnd.google.colaboratory.intrinsic+json": {
       "type": "string"
      },
      "text/plain": [
       "\"model = KNeighborsClassifier()\\nparam = {'n_neighbors' : [1, 3, 5, 7, 9, 11, 13, 15]}\\ngrid = GridSearchCV(model, param, cv=5)\\ngrid.fit(Z_train, y_train)\\nk = grid.best_params_['n_neighbors']\\nk\""
      ]
     },
     "execution_count": 17,
     "metadata": {
      "tags": []
     },
     "output_type": "execute_result"
    }
   ],
   "source": [
    "# procurando o melhor k\n",
    "# demora um pouco\n",
    "\n",
    "model = KNeighborsClassifier()\n",
    "param = {'n_neighbors' : [1, 3, 5, 7, 9, 11, 13, 15]}\n",
    "grid = GridSearchCV(model, param, cv=5)\n",
    "grid.fit(Z_train, y_train)\n",
    "k = grid.best_params_['n_neighbors']\n",
    "k"
   ]
  },
  {
   "cell_type": "code",
   "execution_count": 7,
   "metadata": {
    "id": "kH94Y69lylF6"
   },
   "outputs": [],
   "source": [
    "from sklearn.metrics import precision_score\n",
    "from sklearn.metrics import recall_score\n",
    "from sklearn.metrics import accuracy_score\n",
    "from sklearn.metrics import f1_score"
   ]
  },
  {
   "cell_type": "code",
   "execution_count": 41,
   "metadata": {
    "colab": {
     "base_uri": "https://localhost:8080/"
    },
    "id": "wiQKbAkkykVW",
    "outputId": "e9e1ac1e-1e85-44f3-df53-8cd185ff442e"
   },
   "outputs": [
    {
     "name": "stdout",
     "output_type": "stream",
     "text": [
      "Precisão: 0.04757517741726525\n",
      "Revocação: 0.04757517741726525\n",
      "Acurácia: 0.04757517741726525\n",
      "F1: 0.04757517741726525\n"
     ]
    }
   ],
   "source": [
    "model = KNeighborsClassifier(n_neighbors=k)\n",
    "model.fit(Z_train, y_train)\n",
    "prev = model.predict(Z_test)\n",
    "\n",
    "precisao = precision_score(y_test, prev, average='micro')\n",
    "revocacao = recall_score(y_test, prev, average='micro')\n",
    "acuracia = accuracy_score(y_test, prev)\n",
    "f1 = f1_score(y_test, prev, average='micro')\n",
    "\n",
    "print(\"Precisão:\", precisao)\n",
    "print(\"Revocação:\", revocacao)\n",
    "print(\"Acurácia:\", acuracia)\n",
    "print(\"F1:\", f1)"
   ]
  },
  {
   "cell_type": "markdown",
   "metadata": {
    "id": "EPIaX9wS8v66"
   },
   "source": [
    "Essa não parece ser uma boa previsão. Intuitivamente, até faz sentido que não seja, pois parece haver músicas de variedades muito diferentes nos charts, principalmente quando se considera a população de vários anos, que englobam muitas mudanças sociais e culturais: os gostos mudam, as formas de ouvir música mudam, as formas de fazer música mudam.\n",
    "\n",
    "A princípio, imaginamos que a coluna <i>spotify_track_popularity</i> conseguiria exercer grande influência positiva sobre os resultados, por já ser, em si, uma forma de chartear as músicas. Assim, possivelmente serviria como forte indicador para o Hot 100, mesmo que reflita a popularidade de apenas uma plataforma. Entretanto, nem isso parece ter sido suficiente."
   ]
  },
  {
   "cell_type": "code",
   "execution_count": null,
   "metadata": {
    "id": "uHel0Jp1zbMy"
   },
   "outputs": [],
   "source": []
  },
  {
   "cell_type": "markdown",
   "metadata": {
    "id": "1vkvB8Y6Ud0C"
   },
   "source": [
    "<h1>1. O gênero da música influencia seu tempo (BPM)?</h1>"
   ]
  },
  {
   "cell_type": "code",
   "execution_count": null,
   "metadata": {
    "colab": {
     "base_uri": "https://localhost:8080/"
    },
    "id": "1uZ9VkUzzbK6",
    "outputId": "b49ea4e9-f515-4649-c786-ae75975f4bf5"
   },
   "outputs": [],
   "source": [
    "X = df[genres].copy()\n",
    "y = df['tempo'].copy()\n",
    "y"
   ]
  },
  {
   "cell_type": "code",
   "execution_count": null,
   "metadata": {
    "id": "Lf0WupVfzbFN"
   },
   "outputs": [],
   "source": [
    "# removendo linhas com gêneros NaNs\n",
    "not_nans = (X == X).all(axis=1)\n",
    "y = y[not_nans]\n",
    "X = X[not_nans]\n",
    "\n",
    "# removendo linhas com tempo NaN\n",
    "not_nans = (y == y)\n",
    "y = y[not_nans]\n",
    "X = X[not_nans]"
   ]
  },
  {
   "cell_type": "code",
   "execution_count": null,
   "metadata": {
    "id": "7pKopDEaBN1P"
   },
   "outputs": [],
   "source": [
    "from sklearn.linear_model import LinearRegression"
   ]
  },
  {
   "cell_type": "code",
   "execution_count": null,
   "metadata": {
    "id": "N8T6E0fABN-E"
   },
   "outputs": [],
   "source": [
    "X_train, X_test, y_train, y_test = train_test_split(X, y, test_size=0.3)"
   ]
  },
  {
   "cell_type": "code",
   "execution_count": null,
   "metadata": {
    "id": "LGID3dB3BOHI"
   },
   "outputs": [],
   "source": [
    "lg = LinearRegression(fit_intercept=False)\n",
    "lg.fit(X_train, y_train)\n",
    "\n",
    "theta = lg.coef_\n",
    "\n",
    "erro = X_train @ theta - y_train\n",
    "erro = erro.mean()\n",
    "erro"
   ]
  },
  {
   "cell_type": "code",
   "execution_count": null,
   "metadata": {
    "colab": {
     "base_uri": "https://localhost:8080/",
     "height": 212
    },
    "id": "EesYm5CkBOO2",
    "outputId": "12ee5b69-856b-4643-cce1-10ad9ef43ccb"
   },
   "outputs": [],
   "source": []
  },
  {
   "cell_type": "code",
   "execution_count": null,
   "metadata": {
    "id": "0Pm_yZOWBUFG"
   },
   "outputs": [],
   "source": []
  },
  {
   "cell_type": "code",
   "execution_count": null,
   "metadata": {
    "id": "rE57cfTABUOV"
   },
   "outputs": [],
   "source": []
  },
  {
   "cell_type": "markdown",
   "metadata": {
    "id": "kO_DI7mkhqnk"
   },
   "source": [
    "<h3>Removendo músicas que não têm informações de gênero ou tempo</h3>"
   ]
  },
  {
   "cell_type": "code",
   "execution_count": null,
   "metadata": {
    "colab": {
     "base_uri": "https://localhost:8080/",
     "height": 402
    },
    "id": "iraZMOEVUaCd",
    "outputId": "bcad4afe-e8ac-4653-8e44-d0063f97aeab"
   },
   "outputs": [
    {
     "data": {
      "text/html": [
       "<div>\n",
       "<style scoped>\n",
       "    .dataframe tbody tr th:only-of-type {\n",
       "        vertical-align: middle;\n",
       "    }\n",
       "\n",
       "    .dataframe tbody tr th {\n",
       "        vertical-align: top;\n",
       "    }\n",
       "\n",
       "    .dataframe thead th {\n",
       "        text-align: right;\n",
       "    }\n",
       "</style>\n",
       "<table border=\"1\" class=\"dataframe\">\n",
       "  <thead>\n",
       "    <tr style=\"text-align: right;\">\n",
       "      <th></th>\n",
       "      <th>spotify_genre</th>\n",
       "      <th>tempo</th>\n",
       "    </tr>\n",
       "  </thead>\n",
       "  <tbody>\n",
       "    <tr>\n",
       "      <th>0</th>\n",
       "      <td>['pop reggaeton']</td>\n",
       "      <td>80.002</td>\n",
       "    </tr>\n",
       "    <tr>\n",
       "      <th>2</th>\n",
       "      <td>['dance pop', 'pop']</td>\n",
       "      <td>95.799</td>\n",
       "    </tr>\n",
       "    <tr>\n",
       "      <th>3</th>\n",
       "      <td>['dfw rap', 'melodic rap', 'rap']</td>\n",
       "      <td>76.388</td>\n",
       "    </tr>\n",
       "    <tr>\n",
       "      <th>4</th>\n",
       "      <td>['dfw rap', 'rap', 'southern hip hop', 'trap']</td>\n",
       "      <td>135.979</td>\n",
       "    </tr>\n",
       "    <tr>\n",
       "      <th>5</th>\n",
       "      <td>['dance pop', 'pop', 'post-teen pop']</td>\n",
       "      <td>124.344</td>\n",
       "    </tr>\n",
       "    <tr>\n",
       "      <th>...</th>\n",
       "      <td>...</td>\n",
       "      <td>...</td>\n",
       "    </tr>\n",
       "    <tr>\n",
       "      <th>28486</th>\n",
       "      <td>['album rock', 'art rock', 'classic rock', 'me...</td>\n",
       "      <td>98.058</td>\n",
       "    </tr>\n",
       "    <tr>\n",
       "      <th>28487</th>\n",
       "      <td>['alternative metal', 'alternative rock', 'gru...</td>\n",
       "      <td>148.928</td>\n",
       "    </tr>\n",
       "    <tr>\n",
       "      <th>28488</th>\n",
       "      <td>['adult standards', 'mellow gold', 'soft rock']</td>\n",
       "      <td>136.542</td>\n",
       "    </tr>\n",
       "    <tr>\n",
       "      <th>28489</th>\n",
       "      <td>['boy band', 'dance pop', 'hip hop', 'hip pop'...</td>\n",
       "      <td>76.060</td>\n",
       "    </tr>\n",
       "    <tr>\n",
       "      <th>28491</th>\n",
       "      <td>['brill building pop', 'classic soul', 'funk',...</td>\n",
       "      <td>173.305</td>\n",
       "    </tr>\n",
       "  </tbody>\n",
       "</table>\n",
       "<p>22127 rows × 2 columns</p>\n",
       "</div>"
      ],
      "text/plain": [
       "                                           spotify_genre    tempo\n",
       "0                                      ['pop reggaeton']   80.002\n",
       "2                                   ['dance pop', 'pop']   95.799\n",
       "3                      ['dfw rap', 'melodic rap', 'rap']   76.388\n",
       "4         ['dfw rap', 'rap', 'southern hip hop', 'trap']  135.979\n",
       "5                  ['dance pop', 'pop', 'post-teen pop']  124.344\n",
       "...                                                  ...      ...\n",
       "28486  ['album rock', 'art rock', 'classic rock', 'me...   98.058\n",
       "28487  ['alternative metal', 'alternative rock', 'gru...  148.928\n",
       "28488    ['adult standards', 'mellow gold', 'soft rock']  136.542\n",
       "28489  ['boy band', 'dance pop', 'hip hop', 'hip pop'...   76.060\n",
       "28491  ['brill building pop', 'classic soul', 'funk',...  173.305\n",
       "\n",
       "[22127 rows x 2 columns]"
      ]
     },
     "execution_count": 8,
     "metadata": {
      "tags": []
     },
     "output_type": "execute_result"
    }
   ],
   "source": [
    "tempo = features[['spotify_genre', 'tempo']]\n",
    "\n",
    "#exclui músicas sem gênero\n",
    "tempo = tempo[tempo['spotify_genre'] != '[]']\n",
    "tempo = tempo[tempo['spotify_genre'] == tempo['spotify_genre']]\n",
    "\n",
    "#exclui músicas com tempo NaN\n",
    "tempo = tempo[tempo['tempo'] == tempo['tempo']]\n",
    "\n",
    "#tempo = tempo.head() # EXCLUIR EDEPOIS!!!!!!!!!!!!\n",
    "tempo"
   ]
  },
  {
   "cell_type": "markdown",
   "metadata": {
    "id": "mmZ1niGQh547"
   },
   "source": [
    "<h3>Quebrando as strings de gênero e deixando apenas um por linha</h3>\n",
    "<p>(Demora um pouquinho)</p>"
   ]
  },
  {
   "cell_type": "code",
   "execution_count": null,
   "metadata": {
    "colab": {
     "base_uri": "https://localhost:8080/",
     "height": 402
    },
    "id": "jo0fA_RXYFSk",
    "outputId": "344ef45a-86a8-4b6b-c261-304fe9f51c77"
   },
   "outputs": [
    {
     "data": {
      "text/html": [
       "<div>\n",
       "<style scoped>\n",
       "    .dataframe tbody tr th:only-of-type {\n",
       "        vertical-align: middle;\n",
       "    }\n",
       "\n",
       "    .dataframe tbody tr th {\n",
       "        vertical-align: top;\n",
       "    }\n",
       "\n",
       "    .dataframe thead th {\n",
       "        text-align: right;\n",
       "    }\n",
       "</style>\n",
       "<table border=\"1\" class=\"dataframe\">\n",
       "  <thead>\n",
       "    <tr style=\"text-align: right;\">\n",
       "      <th></th>\n",
       "      <th>spotify_genre</th>\n",
       "      <th>tempo</th>\n",
       "    </tr>\n",
       "  </thead>\n",
       "  <tbody>\n",
       "    <tr>\n",
       "      <th>0</th>\n",
       "      <td>pop reggaeton</td>\n",
       "      <td>80.002</td>\n",
       "    </tr>\n",
       "    <tr>\n",
       "      <th>1</th>\n",
       "      <td>dance pop</td>\n",
       "      <td>95.799</td>\n",
       "    </tr>\n",
       "    <tr>\n",
       "      <th>2</th>\n",
       "      <td>pop</td>\n",
       "      <td>95.799</td>\n",
       "    </tr>\n",
       "    <tr>\n",
       "      <th>3</th>\n",
       "      <td>dfw rap</td>\n",
       "      <td>76.388</td>\n",
       "    </tr>\n",
       "    <tr>\n",
       "      <th>4</th>\n",
       "      <td>melodic rap</td>\n",
       "      <td>76.388</td>\n",
       "    </tr>\n",
       "    <tr>\n",
       "      <th>...</th>\n",
       "      <td>...</td>\n",
       "      <td>...</td>\n",
       "    </tr>\n",
       "    <tr>\n",
       "      <th>115423</th>\n",
       "      <td>motown</td>\n",
       "      <td>173.305</td>\n",
       "    </tr>\n",
       "    <tr>\n",
       "      <th>115424</th>\n",
       "      <td>soul</td>\n",
       "      <td>173.305</td>\n",
       "    </tr>\n",
       "    <tr>\n",
       "      <th>115425</th>\n",
       "      <td>soul blues</td>\n",
       "      <td>173.305</td>\n",
       "    </tr>\n",
       "    <tr>\n",
       "      <th>115426</th>\n",
       "      <td>southern soul</td>\n",
       "      <td>173.305</td>\n",
       "    </tr>\n",
       "    <tr>\n",
       "      <th>115427</th>\n",
       "      <td>vocal jazz</td>\n",
       "      <td>173.305</td>\n",
       "    </tr>\n",
       "  </tbody>\n",
       "</table>\n",
       "<p>115428 rows × 2 columns</p>\n",
       "</div>"
      ],
      "text/plain": [
       "        spotify_genre    tempo\n",
       "0       pop reggaeton   80.002\n",
       "1           dance pop   95.799\n",
       "2                 pop   95.799\n",
       "3             dfw rap   76.388\n",
       "4         melodic rap   76.388\n",
       "...               ...      ...\n",
       "115423         motown  173.305\n",
       "115424           soul  173.305\n",
       "115425     soul blues  173.305\n",
       "115426  southern soul  173.305\n",
       "115427     vocal jazz  173.305\n",
       "\n",
       "[115428 rows x 2 columns]"
      ]
     },
     "execution_count": 9,
     "metadata": {
      "tags": []
     },
     "output_type": "execute_result"
    }
   ],
   "source": [
    "novo = pd.DataFrame(columns=['spotify_genre', 'tempo'])\n",
    "\n",
    "for i, row in tempo.iterrows():\n",
    "  genres = row['spotify_genre']\n",
    "  genres = genres.split(\",\")\n",
    "\n",
    "  for g in genres:\n",
    "    # retira os colchetes e aspas dos nomes\n",
    "    g = re.sub(\"[\\[\\]\\'\\\"]|^ \", \"\", g)\n",
    "\n",
    "    # cria uma tupla com cada gênero da música e o tempo dela\n",
    "    linha = pd.DataFrame([g, tempo['tempo'][i]], index=['spotify_genre', 'tempo'])\n",
    "\n",
    "    # adiciona a tupla ao novo dataframe\n",
    "    novo = novo.append(linha.transpose(), ignore_index=True)\n",
    "\n",
    "tempo = novo\n",
    "tempo"
   ]
  },
  {
   "cell_type": "markdown",
   "metadata": {
    "id": "HjuDdNfhhlK5"
   },
   "source": [
    "<h3>Pronto pra testar a hipótese</h3>\n",
    "<p>Restringimos a hipótese para alguns gêneros, listados abaixo, devido à dificuldade de achar uma estatística adequada para comparação de muitas médias. Assim, poderemos usar um boxplot.</p>"
   ]
  },
  {
   "cell_type": "code",
   "execution_count": null,
   "metadata": {
    "id": "GjjcQhFpK63q"
   },
   "outputs": [],
   "source": [
    "generos = [\n",
    "'disco',\n",
    "'electro',\n",
    "'folk',\n",
    "'jazz',\n",
    "'pop',\n",
    "'salsa',\n",
    "'soul',\n",
    "'thrash metal',\n",
    "'vogue']"
   ]
  },
  {
   "cell_type": "code",
   "execution_count": null,
   "metadata": {
    "colab": {
     "base_uri": "https://localhost:8080/",
     "height": 416
    },
    "id": "1-Ooz1k3OLHP",
    "outputId": "771be49c-4497-4051-e177-b8926c294b51"
   },
   "outputs": [
    {
     "data": {
      "text/plain": [
       "[Text(0, 0, 'disco'),\n",
       " Text(0, 0, 'electro'),\n",
       " Text(0, 0, 'folk'),\n",
       " Text(0, 0, 'jazz'),\n",
       " Text(0, 0, 'pop'),\n",
       " Text(0, 0, 'salsa'),\n",
       " Text(0, 0, 'soul'),\n",
       " Text(0, 0, 'thrash metal'),\n",
       " Text(0, 0, 'vogue')]"
      ]
     },
     "execution_count": 136,
     "metadata": {
      "tags": []
     },
     "output_type": "execute_result"
    },
    {
     "data": {
      "image/png": "[encoded data removed]",
      "text/plain": [
       "<Figure size 432x288 with 1 Axes>"
      ]
     },
     "metadata": {
      "needs_background": "light",
      "tags": []
     },
     "output_type": "display_data"
    }
   ],
   "source": [
    "mydict = {}\n",
    "\n",
    "for g in generos:\n",
    "  bpm = tempo[tempo['spotify_genre'] == g]['tempo']\n",
    "  d = {g : bpm}\n",
    "  mydict.update(d)\n",
    "fig, ax = plt.subplots()\n",
    "ax.boxplot(mydict.values(), showfliers=False, widths=0.8, vert=False)\n",
    "ax.set_yticklabels(mydict.keys())"
   ]
  },
  {
   "cell_type": "code",
   "execution_count": null,
   "metadata": {
    "colab": {
     "base_uri": "https://localhost:8080/",
     "height": 34
    },
    "id": "Mk-LA7Q_XdZM",
    "outputId": "f1e9dd76-92e7-4871-a16d-40c2309c5573"
   },
   "outputs": [
    {
     "data": {
      "text/plain": [
       "-4.601345154992131"
      ]
     },
     "execution_count": 162,
     "metadata": {
      "tags": []
     },
     "output_type": "execute_result"
    }
   ],
   "source": [
    "# Teste por permutação: pop x rock\n",
    "def dif_bpm_generos(df, a, b):\n",
    "  ma = df[df['spotify_genre'] == a]['tempo'].mean()\n",
    "  mb = df[df['spotify_genre'] == b]['tempo'].mean()\n",
    "  return ma - mb\n",
    "\n",
    "difreal = dif_bpm_generos(tempo, 'pop', 'rock')\n",
    "difreal"
   ]
  },
  {
   "cell_type": "code",
   "execution_count": null,
   "metadata": {
    "id": "Mz3muT-9Txtx"
   },
   "outputs": [],
   "source": [
    "qntdPerm = 3000\n",
    "perm = tempo.copy()\n",
    "perm = perm[perm['spotify_genre'].isin(['pop', 'rock'])]\n",
    "diferencas = np.zeros(qntdPerm)\n",
    "\n",
    "for i in range(qntdPerm):\n",
    "  perm['spotify_genre'] = np.random.permutation(perm['spotify_genre'])\n",
    "  diferencas[i] = dif_bpm_generos(perm, 'pop', 'rock')\n"
   ]
  },
  {
   "cell_type": "code",
   "execution_count": null,
   "metadata": {
    "colab": {
     "base_uri": "https://localhost:8080/",
     "height": 296
    },
    "id": "CPUEB9jrZlb0",
    "outputId": "65320dd0-703a-4596-93d2-e934740c2d0e"
   },
   "outputs": [
    {
     "data": {
      "image/png": "[encoded data removed]",
      "text/plain": [
       "<Figure size 432x288 with 1 Axes>"
      ]
     },
     "metadata": {
      "needs_background": "light",
      "tags": []
     },
     "output_type": "display_data"
    }
   ],
   "source": [
    "plt.hist(diferencas, 50, edgecolor='black', density=1)\n",
    "plt.title(\"Diferença entre médias do tempo em BPM de músicas pop e rock\\nna hipótese nula com \" + str(qntdPerm) + \" permutações\")\n",
    "plt.axvline(difreal, color='red', label='redline')\n",
    "plt.legend([\"Diferença real\"], loc='upper left')\n",
    "plt.show()"
   ]
  },
  {
   "cell_type": "code",
   "execution_count": null,
   "metadata": {
    "id": "bH50gDOBiN1x"
   },
   "outputs": [],
   "source": []
  },
  {
   "cell_type": "markdown",
   "metadata": {
    "id": "mlvftk2YiBYG"
   },
   "source": [
    "Como é possível perceber pelo histograma acima, a diferença entre as médias de BPM das músicas categorizadas como pop e as categorizadas como rock gira em torno de 0 quando [acabar de escrever]"
   ]
  },
  {
   "cell_type": "code",
   "execution_count": null,
   "metadata": {
    "colab": {
     "base_uri": "https://localhost:8080/",
     "height": 407
    },
    "id": "vuUmRkePSoqx",
    "outputId": "3e9b8650-d71e-41b0-cc1d-b701325eb180"
   },
   "outputs": [
    {
     "data": {
      "text/html": [
       "<div>\n",
       "<style scoped>\n",
       "    .dataframe tbody tr th:only-of-type {\n",
       "        vertical-align: middle;\n",
       "    }\n",
       "\n",
       "    .dataframe tbody tr th {\n",
       "        vertical-align: top;\n",
       "    }\n",
       "\n",
       "    .dataframe thead th {\n",
       "        text-align: right;\n",
       "    }\n",
       "</style>\n",
       "<table border=\"1\" class=\"dataframe\">\n",
       "  <thead>\n",
       "    <tr style=\"text-align: right;\">\n",
       "      <th></th>\n",
       "      <th>Song</th>\n",
       "      <th>Performer</th>\n",
       "      <th>spotify_track_popularity</th>\n",
       "      <th>popularity_points</th>\n",
       "    </tr>\n",
       "  </thead>\n",
       "  <tbody>\n",
       "    <tr>\n",
       "      <th>2217</th>\n",
       "      <td>Battle Of Gettysburg</td>\n",
       "      <td>Fred Darian</td>\n",
       "      <td>0.0</td>\n",
       "      <td>0</td>\n",
       "    </tr>\n",
       "    <tr>\n",
       "      <th>6044</th>\n",
       "      <td>Drums</td>\n",
       "      <td>Jon &amp; Robin</td>\n",
       "      <td>0.0</td>\n",
       "      <td>0</td>\n",
       "    </tr>\n",
       "    <tr>\n",
       "      <th>12895</th>\n",
       "      <td>Judy</td>\n",
       "      <td>Frankie Vaughan</td>\n",
       "      <td>0.0</td>\n",
       "      <td>0</td>\n",
       "    </tr>\n",
       "    <tr>\n",
       "      <th>16528</th>\n",
       "      <td>My Soul's Got A Hole In It</td>\n",
       "      <td>Howard Tate</td>\n",
       "      <td>0.0</td>\n",
       "      <td>0</td>\n",
       "    </tr>\n",
       "    <tr>\n",
       "      <th>24646</th>\n",
       "      <td>This Sporting Life</td>\n",
       "      <td>Ian Whitcomb And Bluesville</td>\n",
       "      <td>0.0</td>\n",
       "      <td>0</td>\n",
       "    </tr>\n",
       "    <tr>\n",
       "      <th>...</th>\n",
       "      <td>...</td>\n",
       "      <td>...</td>\n",
       "      <td>...</td>\n",
       "      <td>...</td>\n",
       "    </tr>\n",
       "    <tr>\n",
       "      <th>18089</th>\n",
       "      <td>Party Rock Anthem</td>\n",
       "      <td>LMFAO Featuring Lauren Bennett &amp; GoonRock</td>\n",
       "      <td>68.0</td>\n",
       "      <td>5283</td>\n",
       "    </tr>\n",
       "    <tr>\n",
       "      <th>11689</th>\n",
       "      <td>I'm Yours</td>\n",
       "      <td>Jason Mraz</td>\n",
       "      <td>83.0</td>\n",
       "      <td>5357</td>\n",
       "    </tr>\n",
       "    <tr>\n",
       "      <th>7125</th>\n",
       "      <td>Foolish Games/You Were Meant For Me</td>\n",
       "      <td>Jewel</td>\n",
       "      <td>NaN</td>\n",
       "      <td>5434</td>\n",
       "    </tr>\n",
       "    <tr>\n",
       "      <th>9795</th>\n",
       "      <td>How Do I Live</td>\n",
       "      <td>LeAnn Rimes</td>\n",
       "      <td>68.0</td>\n",
       "      <td>5546</td>\n",
       "    </tr>\n",
       "    <tr>\n",
       "      <th>18852</th>\n",
       "      <td>Radioactive</td>\n",
       "      <td>Imagine Dragons</td>\n",
       "      <td>74.0</td>\n",
       "      <td>5845</td>\n",
       "    </tr>\n",
       "  </tbody>\n",
       "</table>\n",
       "<p>28480 rows × 4 columns</p>\n",
       "</div>"
      ],
      "text/plain": [
       "                                      Song  ... popularity_points\n",
       "2217                  Battle Of Gettysburg  ...                 0\n",
       "6044                                 Drums  ...                 0\n",
       "12895                                 Judy  ...                 0\n",
       "16528           My Soul's Got A Hole In It  ...                 0\n",
       "24646                   This Sporting Life  ...                 0\n",
       "...                                    ...  ...               ...\n",
       "18089                    Party Rock Anthem  ...              5283\n",
       "11689                            I'm Yours  ...              5357\n",
       "7125   Foolish Games/You Were Meant For Me  ...              5434\n",
       "9795                         How Do I Live  ...              5546\n",
       "18852                          Radioactive  ...              5845\n",
       "\n",
       "[28480 rows x 4 columns]"
      ]
     },
     "execution_count": 5,
     "metadata": {
      "tags": []
     },
     "output_type": "execute_result"
    }
   ],
   "source": [
    "fs_hot = hot.assign(popularity_points = lambda x: 100-x[\"Week Position\"])[['Song', 'Performer', 'popularity_points']]\n",
    "fs_grouped_popularity = (fs_hot.groupby(by=['Song','Performer']).sum())\n",
    "fs_merged = pd.merge(fs_grouped_popularity, features, how='inner', on=['Song','Performer'])[['Song', 'Performer', 'spotify_track_popularity', 'popularity_points']]\n"
   ]
  },
  {
   "cell_type": "code",
   "execution_count": null,
   "metadata": {
    "colab": {
     "base_uri": "https://localhost:8080/",
     "height": 407
    },
    "id": "40mJficvzVNf",
    "outputId": "30d68b33-012f-42f2-b641-f79eb8068f42"
   },
   "outputs": [
    {
     "data": {
      "text/html": [
       "<div>\n",
       "<style scoped>\n",
       "    .dataframe tbody tr th:only-of-type {\n",
       "        vertical-align: middle;\n",
       "    }\n",
       "\n",
       "    .dataframe tbody tr th {\n",
       "        vertical-align: top;\n",
       "    }\n",
       "\n",
       "    .dataframe thead th {\n",
       "        text-align: right;\n",
       "    }\n",
       "</style>\n",
       "<table border=\"1\" class=\"dataframe\">\n",
       "  <thead>\n",
       "    <tr style=\"text-align: right;\">\n",
       "      <th></th>\n",
       "      <th>Song</th>\n",
       "      <th>Performer</th>\n",
       "      <th>spotify_track_popularity</th>\n",
       "      <th>popularity_points</th>\n",
       "    </tr>\n",
       "  </thead>\n",
       "  <tbody>\n",
       "    <tr>\n",
       "      <th>2217</th>\n",
       "      <td>Battle Of Gettysburg</td>\n",
       "      <td>Fred Darian</td>\n",
       "      <td>0.0</td>\n",
       "      <td>0</td>\n",
       "    </tr>\n",
       "    <tr>\n",
       "      <th>6044</th>\n",
       "      <td>Drums</td>\n",
       "      <td>Jon &amp; Robin</td>\n",
       "      <td>0.0</td>\n",
       "      <td>0</td>\n",
       "    </tr>\n",
       "    <tr>\n",
       "      <th>12895</th>\n",
       "      <td>Judy</td>\n",
       "      <td>Frankie Vaughan</td>\n",
       "      <td>0.0</td>\n",
       "      <td>0</td>\n",
       "    </tr>\n",
       "    <tr>\n",
       "      <th>16528</th>\n",
       "      <td>My Soul's Got A Hole In It</td>\n",
       "      <td>Howard Tate</td>\n",
       "      <td>0.0</td>\n",
       "      <td>0</td>\n",
       "    </tr>\n",
       "    <tr>\n",
       "      <th>24646</th>\n",
       "      <td>This Sporting Life</td>\n",
       "      <td>Ian Whitcomb And Bluesville</td>\n",
       "      <td>0.0</td>\n",
       "      <td>0</td>\n",
       "    </tr>\n",
       "    <tr>\n",
       "      <th>...</th>\n",
       "      <td>...</td>\n",
       "      <td>...</td>\n",
       "      <td>...</td>\n",
       "      <td>...</td>\n",
       "    </tr>\n",
       "    <tr>\n",
       "      <th>18089</th>\n",
       "      <td>Party Rock Anthem</td>\n",
       "      <td>LMFAO Featuring Lauren Bennett &amp; GoonRock</td>\n",
       "      <td>68.0</td>\n",
       "      <td>5283</td>\n",
       "    </tr>\n",
       "    <tr>\n",
       "      <th>11689</th>\n",
       "      <td>I'm Yours</td>\n",
       "      <td>Jason Mraz</td>\n",
       "      <td>83.0</td>\n",
       "      <td>5357</td>\n",
       "    </tr>\n",
       "    <tr>\n",
       "      <th>7125</th>\n",
       "      <td>Foolish Games/You Were Meant For Me</td>\n",
       "      <td>Jewel</td>\n",
       "      <td>NaN</td>\n",
       "      <td>5434</td>\n",
       "    </tr>\n",
       "    <tr>\n",
       "      <th>9795</th>\n",
       "      <td>How Do I Live</td>\n",
       "      <td>LeAnn Rimes</td>\n",
       "      <td>68.0</td>\n",
       "      <td>5546</td>\n",
       "    </tr>\n",
       "    <tr>\n",
       "      <th>18852</th>\n",
       "      <td>Radioactive</td>\n",
       "      <td>Imagine Dragons</td>\n",
       "      <td>74.0</td>\n",
       "      <td>5845</td>\n",
       "    </tr>\n",
       "  </tbody>\n",
       "</table>\n",
       "<p>28480 rows × 4 columns</p>\n",
       "</div>"
      ],
      "text/plain": [
       "                                      Song  ... popularity_points\n",
       "2217                  Battle Of Gettysburg  ...                 0\n",
       "6044                                 Drums  ...                 0\n",
       "12895                                 Judy  ...                 0\n",
       "16528           My Soul's Got A Hole In It  ...                 0\n",
       "24646                   This Sporting Life  ...                 0\n",
       "...                                    ...  ...               ...\n",
       "18089                    Party Rock Anthem  ...              5283\n",
       "11689                            I'm Yours  ...              5357\n",
       "7125   Foolish Games/You Were Meant For Me  ...              5434\n",
       "9795                         How Do I Live  ...              5546\n",
       "18852                          Radioactive  ...              5845\n",
       "\n",
       "[28480 rows x 4 columns]"
      ]
     },
     "execution_count": 6,
     "metadata": {
      "tags": []
     },
     "output_type": "execute_result"
    }
   ],
   "source": [
    "fs_merged.sort_values(by=['popularity_points','spotify_track_popularity'],ascending=True)"
   ]
  },
  {
   "cell_type": "code",
   "execution_count": null,
   "metadata": {
    "colab": {
     "base_uri": "https://localhost:8080/",
     "height": 402
    },
    "id": "eFfseI2e23IZ",
    "outputId": "23e56678-4fb7-45a1-ec0c-1a28a4cab5b9"
   },
   "outputs": [
    {
     "data": {
      "text/plain": [
       "<seaborn.axisgrid.FacetGrid at 0x7f6f43a64390>"
      ]
     },
     "execution_count": 8,
     "metadata": {
      "tags": []
     },
     "output_type": "execute_result"
    },
    {
     "data": {
      "image/png": "[encoded data removed]",
      "text/plain": [
       "<Figure size 360x360 with 1 Axes>"
      ]
     },
     "metadata": {
      "needs_background": "light",
      "tags": []
     },
     "output_type": "display_data"
    }
   ],
   "source": [
    "import seaborn as sns\n",
    "sns.lmplot(x='popularity_points', y='spotify_track_popularity', data=fs_merged)"
   ]
  },
  {
   "cell_type": "markdown",
   "metadata": {
    "id": "mR3Wz0B3iiZg"
   },
   "source": [
    "# Limpeza dos Dados / Analise Exploratória\n",
    "\n"
   ]
  },
  {
   "cell_type": "markdown",
   "metadata": {
    "id": "MSCkY7pKi64n"
   },
   "source": [
    "dataframe hot"
   ]
  },
  {
   "cell_type": "code",
   "execution_count": null,
   "metadata": {
    "id": "sCUtRhTfilxz"
   },
   "outputs": [],
   "source": [
    "#retirei a coluna url \n",
    "hot = hot[[\n",
    "    'WeekID',\n",
    "    'Week Position',\n",
    "    'Song',\n",
    "    'Performer',\n",
    "    'SongID',\n",
    "    'Instance',\n",
    "    'Previous Week Position',\n",
    "    'Peak Position',\n",
    "    'Weeks on Chart',\n",
    "]]\n",
    "\n",
    "#adicionando coluna do ano em que a musica ficou no hot100\n",
    "hot['Ano']= hot['WeekID'].str.slice(-4)\n"
   ]
  },
  {
   "cell_type": "code",
   "execution_count": null,
   "metadata": {
    "colab": {
     "base_uri": "https://localhost:8080/",
     "height": 649
    },
    "id": "NLED430t6OEn",
    "outputId": "8ec6bcd6-ccb5-4ffd-9276-47d3fd8de4b3"
   },
   "outputs": [
    {
     "name": "stderr",
     "output_type": "stream",
     "text": [
      "/usr/local/lib/python3.6/dist-packages/seaborn/_decorators.py:43: FutureWarning: Pass the following variables as keyword args: x, y. From version 0.12, the only valid positional argument will be `data`, and passing other arguments without an explicit keyword will result in an error or misinterpretation.\n",
      "  FutureWarning\n"
     ]
    },
    {
     "data": {
      "image/png": "[encoded data removed]",
      "text/plain": [
       "<Figure size 1080x648 with 1 Axes>"
      ]
     },
     "metadata": {
      "tags": []
     },
     "output_type": "display_data"
    }
   ],
   "source": [
    "#quantidade de musicas que entraram na hot 100 por ano\n",
    "songs_per_year = (hot.loc[(hot['Instance'] == 1)].groupby('SongID')\n",
    "                 .agg({'Ano': 'min'})\n",
    "                 .reset_index()\n",
    "                 .groupby('Ano')\n",
    "                 .agg({'SongID': 'count'})\n",
    "                 .reset_index()\n",
    "                 .rename(columns={'SongID':'n_songs'}))\n",
    "\n",
    "sns.set()\n",
    "\n",
    "# Tamanho default das figuras\n",
    "plt.rcParams['figure.figsize'] = (15.0, 9.0)\n",
    "\n",
    "sns.barplot(\n",
    "    songs_per_year['Ano'],\n",
    "    songs_per_year['n_songs'],\n",
    ")\n",
    "\n",
    "# Título do plot\n",
    "plt.title(\"Número de músicas que entraram no hot100 por ano\", fontsize=18)\n",
    "# Nome do eixo x\n",
    "plt.xlabel('Ano')\n",
    "# Nome do eixo y\n",
    "plt.ylabel('Número de músicas')\n",
    "plt.xticks(rotation=90)\n",
    "plt.show()"
   ]
  },
  {
   "cell_type": "markdown",
   "metadata": {
    "id": "X-E2Rb6ajG4y"
   },
   "source": [
    "dataframe features (adicao das colunas, ano, weeks on top1, weeks on chart, chart debut)\n",
    "\n",
    "retirei as colunas (\n"
   ]
  },
  {
   "cell_type": "code",
   "execution_count": null,
   "metadata": {
    "id": "Q22JDhb0HM74"
   },
   "outputs": [],
   "source": [
    "#adicionando coluna 'anos' no df de features\n",
    "features['ano'] = features.SongID.map(hot.set_index('SongID')['Ano'].to_dict())\n",
    "\n",
    "#adicionando coluna 'weeks on top1' de quantidade de semanas em primeiro no df de features\n",
    "top1 = hot.loc[(hot['Week Position'] == 1)].groupby('SongID').count()\n",
    "features['weeks on top1'] = features.SongID.map(top1['Week Position'].to_dict())\n",
    "\n",
    "#adicionando coluna 'weeks on chart' de quantidade de semanas que mais permaneceram no chart no df de features\n",
    "weeksOnChart = hot.groupby('SongID').max()\n",
    "features['weeks on chart'] = features.SongID.map(weeksOnChart['Weeks on Chart'].to_dict())\n",
    "\n",
    "#adicionando coluna 'chart debut' de posicao de estreia no chart no df de features\n",
    "chartDebut = hot.loc[(hot['Previous Week Position'].isnull())].groupby('SongID').min()\n",
    "features['chart debut'] = features.SongID.map(chartDebut['Week Position'].to_dict())"
   ]
  },
  {
   "cell_type": "code",
   "execution_count": null,
   "metadata": {
    "id": "dU48lgS2HlTY"
   },
   "outputs": [],
   "source": [
    "# Drop unnecessary columns\n",
    "features = features[[\n",
    "    'SongID',\n",
    "    'Performer',\n",
    "    'Song',\n",
    "    'ano',\n",
    "    'chart debut',\n",
    "    'weeks on chart',\n",
    "    'weeks on top1',\n",
    "    'spotify_genre',\n",
    "    'spotify_track_explicit',\n",
    "    'spotify_track_duration_ms',\n",
    "    'spotify_track_popularity',\n",
    "    'danceability',\n",
    "    'energy',\n",
    "    'key',\n",
    "    'loudness',\n",
    "    'mode',\n",
    "    'speechiness',\n",
    "    'acousticness',\n",
    "    'instrumentalness',\n",
    "    'liveness',\n",
    "    'valence',\n",
    "    'tempo',\n",
    "    'time_signature'\n",
    "]]"
   ]
  },
  {
   "cell_type": "markdown",
   "metadata": {
    "id": "l-ur4twT788J"
   },
   "source": [
    "# 3. Como foi a evolução das características das músicas mais ouvidas ao longo dos anos?"
   ]
  },
  {
   "cell_type": "code",
   "execution_count": null,
   "metadata": {
    "id": "Tatb7t1E8gtN"
   },
   "outputs": [],
   "source": [
    "#media das caracteristicas das musicas em cada ano\n",
    "featuresMediaPorAno = features.groupby('ano').mean().reset_index()\n",
    "featuresMediaPorAno708090 = featuresMediaPorAno[featuresMediaPorAno['ano']\n",
    "                                                .isin(['1958','1965','1970','1975','1980','1985','1990','1995','2000','2005','2010','2015','2019'])]"
   ]
  },
  {
   "cell_type": "code",
   "execution_count": null,
   "metadata": {
    "colab": {
     "base_uri": "https://localhost:8080/",
     "height": 1000
    },
    "id": "2ZWfofBYpBi0",
    "outputId": "2f9df8d6-daee-4479-db45-0539bc0439be"
   },
   "outputs": [
    {
     "data": {
      "image/png": "[encoded data removed]",
      "text/plain": [
       "<Figure size 1440x1080 with 10 Axes>"
      ]
     },
     "metadata": {
      "tags": []
     },
     "output_type": "display_data"
    }
   ],
   "source": [
    "fig = plt.figure(figsize=(20, 15))\n",
    "fig.subplots_adjust(hspace=0.6, wspace=0.2)\n",
    "fig.suptitle('média das características das músicas ao longo dos anos', fontsize=20)\n",
    "\n",
    "caracteristicas = ['danceability', 'energy', 'speechiness', 'acousticness',\n",
    "            'instrumentalness','liveness', 'valence','loudness','time_signature','tempo'] \n",
    "\n",
    "\n",
    "for index, feature in enumerate(caracteristicas):\n",
    "    ax = fig.add_subplot(4,3,index+1)\n",
    "    \n",
    "    # Define o plot\n",
    "    sns.lineplot(x='ano', y=feature,# marker='o',\n",
    "                         data=featuresMediaPorAno708090, label=feature, sort=False)\n",
    "#     sns.barplot(x='ano', y=feature,\n",
    "#                          data=featuresMediaPorAno, label=feature)\n",
    "    \n",
    "    # Título do plot\n",
    "    plt.title(feature)\n",
    "    # Nome do eixo x\n",
    "    plt.xlabel('Ano')\n",
    "    # Nome do eixo y\n",
    "    plt.ylabel('')\n",
    "    # Rotaciona nomes no eixo x\n",
    "    plt.xticks(rotation=60)\n",
    "    plt.legend()\n",
    "plt.show()"
   ]
  },
  {
   "cell_type": "code",
   "execution_count": null,
   "metadata": {
    "colab": {
     "base_uri": "https://localhost:8080/",
     "height": 649
    },
    "id": "RPj0TZM39ztR",
    "outputId": "686a4366-5a4b-4b3e-87e4-0e5510135eb1"
   },
   "outputs": [
    {
     "name": "stderr",
     "output_type": "stream",
     "text": [
      "/usr/local/lib/python3.6/dist-packages/seaborn/_decorators.py:43: FutureWarning: Pass the following variables as keyword args: x, y. From version 0.12, the only valid positional argument will be `data`, and passing other arguments without an explicit keyword will result in an error or misinterpretation.\n",
      "  FutureWarning\n"
     ]
    },
    {
     "data": {
      "image/png": "[encoded data removed]",
      "text/plain": [
       "<Figure size 1080x648 with 1 Axes>"
      ]
     },
     "metadata": {
      "tags": []
     },
     "output_type": "display_data"
    }
   ],
   "source": [
    "#numero de musicas com conteudo explicito por ano\n",
    "featuresExplicitPorAno = pd.DataFrame(features.groupby('ano').count().reset_index())\n",
    "\n",
    "sns.barplot(\n",
    "    featuresExplicitPorAno['ano'],\n",
    "    featuresExplicitPorAno['spotify_track_explicit'],\n",
    ")\n",
    "\n",
    "# Título do plot\n",
    "plt.title(\"Número de músicas com conteúdo explícito\", fontsize=18)\n",
    "# Nome do eixo x\n",
    "plt.xlabel('Ano')\n",
    "# Nome do eixo y\n",
    "plt.ylabel('Número de músicas')\n",
    "plt.xticks(rotation=90)\n",
    "plt.show()"
   ]
  },
  {
   "cell_type": "code",
   "execution_count": null,
   "metadata": {
    "colab": {
     "base_uri": "https://localhost:8080/",
     "height": 649
    },
    "id": "CmrgrE4d1i4c",
    "outputId": "7bcf61cc-ada4-4696-a20e-5cd8649f6110"
   },
   "outputs": [
    {
     "name": "stderr",
     "output_type": "stream",
     "text": [
      "/usr/local/lib/python3.6/dist-packages/seaborn/_decorators.py:43: FutureWarning: Pass the following variables as keyword args: x, y. From version 0.12, the only valid positional argument will be `data`, and passing other arguments without an explicit keyword will result in an error or misinterpretation.\n",
      "  FutureWarning\n"
     ]
    },
    {
     "data": {
      "image/png": "[encoded data removed]",
      "text/plain": [
       "<Figure size 1080x648 with 1 Axes>"
      ]
     },
     "metadata": {
      "tags": []
     },
     "output_type": "display_data"
    }
   ],
   "source": [
    "#duracao media das musicas (em milisegundos)\n",
    "\n",
    "sns.barplot(\n",
    "    featuresMediaPorAno['ano'],\n",
    "    featuresMediaPorAno['spotify_track_duration_ms'],\n",
    ")\n",
    "\n",
    "# Título do plot\n",
    "plt.title(\"Duração média das músicas por ano (em milisegundos)\", fontsize=18)\n",
    "# Nome do eixo x\n",
    "plt.xlabel('Ano')\n",
    "# Nome do eixo y\n",
    "plt.ylabel('duração (ms)')\n",
    "plt.xticks(rotation=90)\n",
    "plt.show()"
   ]
  },
  {
   "cell_type": "markdown",
   "metadata": {
    "id": "_sQ496IcneGB"
   },
   "source": [
    "#Teste de hipótese"
   ]
  },
  {
   "cell_type": "markdown",
   "metadata": {
    "id": "LTnUh2nfnp9K"
   },
   "source": [
    "TESTE - Como foi a evolução das características das músicas mais ouvidas ao longo dos anos?\n",
    "\n",
    "\n",
    "Hipotese nula: a caracterista x das músicas ao longo dos anos é igual/a caracterista x não se alterou ao longo dos anos."
   ]
  },
  {
   "cell_type": "markdown",
   "metadata": {
    "id": "y1RUUn40n1wR"
   },
   "source": [
    "Vamos comparar a danceability de dois anos: 2010 e 2019. \n",
    "Inicialmente, vamos explorar os dados"
   ]
  },
  {
   "cell_type": "code",
   "execution_count": null,
   "metadata": {
    "id": "k-kdtWp9n7Mb"
   },
   "outputs": [],
   "source": [
    "features_2010_2019 = features[features['ano'].isin(['2010', '2019'])]"
   ]
  },
  {
   "cell_type": "markdown",
   "metadata": {
    "id": "zoYwiIfln--y"
   },
   "source": [
    "Vamos pegar o danceability médio de cada ano. \n",
    "temos uma diferença de 0.09. \n",
    "Tal estatística será a nossa $t_{obs}$."
   ]
  },
  {
   "cell_type": "code",
   "execution_count": null,
   "metadata": {
    "colab": {
     "base_uri": "https://localhost:8080/"
    },
    "id": "AHKacv3xoCzB",
    "outputId": "c6c20668-da51-4330-afd8-e02faf763585"
   },
   "outputs": [
    {
     "data": {
      "text/plain": [
       "0.6811282051282043"
      ]
     },
     "execution_count": 59,
     "metadata": {
      "tags": []
     },
     "output_type": "execute_result"
    }
   ],
   "source": [
    "#danceability médio de 2019\n",
    "filtro2019 = features['ano'] == '2019'\n",
    "danceability_mean_2019 = features[filtro2019]['danceability'].mean()\n",
    "danceability_mean_2019"
   ]
  },
  {
   "cell_type": "code",
   "execution_count": null,
   "metadata": {
    "colab": {
     "base_uri": "https://localhost:8080/"
    },
    "id": "m07r8EcioGtS",
    "outputId": "7638bb87-c94c-47c5-8f26-7ab0aa65ef72"
   },
   "outputs": [
    {
     "data": {
      "text/plain": [
       "0.5880625000000004"
      ]
     },
     "execution_count": 60,
     "metadata": {
      "tags": []
     },
     "output_type": "execute_result"
    }
   ],
   "source": [
    "#danceability médio de 2010\n",
    "filtro2010 = features['ano'] == '2010'\n",
    "danceability_mean_2010 = features[filtro2010]['danceability'].mean()\n",
    "danceability_mean_2010"
   ]
  },
  {
   "cell_type": "code",
   "execution_count": null,
   "metadata": {
    "colab": {
     "base_uri": "https://localhost:8080/"
    },
    "id": "1IfdyMNkoKOM",
    "outputId": "bd9f6fe0-739f-4a06-95ce-b091d52cd00f"
   },
   "outputs": [
    {
     "data": {
      "text/plain": [
       "0.09306570512820389"
      ]
     },
     "execution_count": 61,
     "metadata": {
      "tags": []
     },
     "output_type": "execute_result"
    }
   ],
   "source": [
    "t_obs = danceability_mean_2019 - danceability_mean_2010\n",
    "t_obs"
   ]
  },
  {
   "cell_type": "markdown",
   "metadata": {
    "id": "UqaZF1CLoMcX"
   },
   "source": [
    "Teste de permutação"
   ]
  },
  {
   "cell_type": "code",
   "execution_count": null,
   "metadata": {
    "colab": {
     "base_uri": "https://localhost:8080/"
    },
    "id": "6bsg-bA2oRkW",
    "outputId": "455b36b4-1156-457b-abb0-4388062f39ef"
   },
   "outputs": [
    {
     "data": {
      "text/plain": [
       "-0.01099031690140806"
      ]
     },
     "execution_count": 62,
     "metadata": {
      "tags": []
     },
     "output_type": "execute_result"
    }
   ],
   "source": [
    "np.random.shuffle(filtro2019.values)\n",
    "np.random.shuffle(filtro2019.values)\n",
    "diff = features[filtro2010]['danceability'].mean() - features[filtro2019]['danceability'].mean()\n",
    "diff"
   ]
  },
  {
   "cell_type": "code",
   "execution_count": null,
   "metadata": {
    "id": "r-w7M1kzoTtA"
   },
   "outputs": [],
   "source": [
    "N = 10000\n",
    "diferencas = np.zeros(N)\n",
    "for i in range(N):\n",
    "    np.random.shuffle(filtro2019.values)\n",
    "    np.random.shuffle(filtro2019.values)\n",
    "    diff = features[filtro2010]['danceability'].mean() - features[filtro2019]['danceability'].mean()\n",
    "    diferencas[i] = diff\n"
   ]
  },
  {
   "cell_type": "code",
   "execution_count": null,
   "metadata": {
    "colab": {
     "base_uri": "https://localhost:8080/",
     "height": 557
    },
    "id": "AflMGk9LoWIL",
    "outputId": "bd9e6878-31d3-432f-938d-204583cccc1d"
   },
   "outputs": [
    {
     "data": {
      "image/png": "[encoded data removed]",
      "text/plain": [
       "<Figure size 1080x648 with 1 Axes>"
      ]
     },
     "metadata": {
      "tags": []
     },
     "output_type": "display_data"
    }
   ],
   "source": [
    "# plt.rcParams['figure.figsize']  = (15, 9)\n",
    "# plt.rcParams['axes.labelsize']  = 20\n",
    "# plt.rcParams['axes.titlesize']  = 20\n",
    "# plt.rcParams['legend.fontsize'] = 20\n",
    "# plt.rcParams['xtick.labelsize'] = 20\n",
    "# plt.rcParams['ytick.labelsize'] = 20\n",
    "# plt.rcParams['lines.linewidth'] = 4\n",
    "\n",
    "def despine(ax=None):\n",
    "    if ax is None:\n",
    "        ax = plt.gca()\n",
    "    # Hide the right and top spines\n",
    "    ax.spines['right'].set_visible(False)\n",
    "    ax.spines['top'].set_visible(False)\n",
    "\n",
    "    # Only show ticks on the left and bottom spines\n",
    "    ax.yaxis.set_ticks_position('left')\n",
    "    ax.xaxis.set_ticks_position('bottom')\n",
    "\n",
    "plt.hist(diferencas, bins=50, edgecolor='k')\n",
    "plt.xlabel('Diferença na Permutação')\n",
    "plt.ylabel('Pr(diff)')\n",
    "plt.axvline(t_obs, color='red', label='redline')\n",
    "# plt.text(t_obs+1, 0.10, '$16\\%$ dos casos')\n",
    "despine()\n",
    "plt.show()"
   ]
  },
  {
   "cell_type": "markdown",
   "metadata": {
    "id": "wr57hOqGoY0J"
   },
   "source": [
    "O traço vermelho mostra o valor que observamos, as barras mostram as diferentes amostras.\n",
    "t_obs é bastante raro, logo rejeitamos a hipótese nula e indicamos que a variação dos valores \n",
    "de danceability não pode ser explicado pelo acaso."
   ]
  },
  {
   "cell_type": "markdown",
   "metadata": {
    "id": "SnPmeH5UobHf"
   },
   "source": [
    "#IC - Intervalo de Confiança"
   ]
  },
  {
   "cell_type": "markdown",
   "metadata": {
    "id": "y-PazB1woiNs"
   },
   "source": [
    "Alguma característica da música pode influenciá-la a ficar em #1?\n",
    "\n",
    "Vamos comparar as caracteristicas das músicas que ficaram no top10 com as que chegaram apenas ate a 90 posicao.\n",
    "Para isso fizemos um tratamento dos dados, adicionando uma coluna da melhor posicao de cada musica"
   ]
  },
  {
   "cell_type": "code",
   "execution_count": null,
   "metadata": {
    "colab": {
     "base_uri": "https://localhost:8080/"
    },
    "id": "5HDooM-utVkm",
    "outputId": "aaf8e247-ebf4-41b0-fc86-8025727dd1db"
   },
   "outputs": [
    {
     "name": "stderr",
     "output_type": "stream",
     "text": [
      "/usr/local/lib/python3.6/dist-packages/ipykernel_launcher.py:2: SettingWithCopyWarning: \n",
      "A value is trying to be set on a copy of a slice from a DataFrame.\n",
      "Try using .loc[row_indexer,col_indexer] = value instead\n",
      "\n",
      "See the caveats in the documentation: https://pandas.pydata.org/pandas-docs/stable/user_guide/indexing.html#returning-a-view-versus-a-copy\n",
      "  \n"
     ]
    }
   ],
   "source": [
    "best_position = hot.groupby('SongID').min()\n",
    "features['melhor posicao'] = features.SongID.map(best_position['Peak Position'].to_dict())"
   ]
  },
  {
   "cell_type": "code",
   "execution_count": null,
   "metadata": {
    "colab": {
     "base_uri": "https://localhost:8080/",
     "height": 334
    },
    "id": "Xo9JMkkqotat",
    "outputId": "72af3060-7a56-4f34-ff1f-ebdf2679e593"
   },
   "outputs": [
    {
     "data": {
      "text/html": [
       "<div>\n",
       "<style scoped>\n",
       "    .dataframe tbody tr th:only-of-type {\n",
       "        vertical-align: middle;\n",
       "    }\n",
       "\n",
       "    .dataframe tbody tr th {\n",
       "        vertical-align: top;\n",
       "    }\n",
       "\n",
       "    .dataframe thead th {\n",
       "        text-align: right;\n",
       "    }\n",
       "</style>\n",
       "<table border=\"1\" class=\"dataframe\">\n",
       "  <thead>\n",
       "    <tr style=\"text-align: right;\">\n",
       "      <th></th>\n",
       "      <th>chart debut</th>\n",
       "      <th>weeks on chart</th>\n",
       "      <th>weeks on top1</th>\n",
       "      <th>spotify_track_explicit</th>\n",
       "      <th>spotify_track_duration_ms</th>\n",
       "      <th>spotify_track_popularity</th>\n",
       "      <th>danceability</th>\n",
       "      <th>energy</th>\n",
       "      <th>key</th>\n",
       "      <th>loudness</th>\n",
       "      <th>mode</th>\n",
       "      <th>speechiness</th>\n",
       "      <th>acousticness</th>\n",
       "      <th>instrumentalness</th>\n",
       "      <th>liveness</th>\n",
       "      <th>valence</th>\n",
       "      <th>tempo</th>\n",
       "      <th>time_signature</th>\n",
       "      <th>melhor posicao</th>\n",
       "    </tr>\n",
       "  </thead>\n",
       "  <tbody>\n",
       "    <tr>\n",
       "      <th>count</th>\n",
       "      <td>28481.000000</td>\n",
       "      <td>28489.000000</td>\n",
       "      <td>1080.000000</td>\n",
       "      <td>23743.00000</td>\n",
       "      <td>2.374300e+04</td>\n",
       "      <td>23743.000000</td>\n",
       "      <td>23680.000000</td>\n",
       "      <td>23680.000000</td>\n",
       "      <td>23680.000000</td>\n",
       "      <td>23680.000000</td>\n",
       "      <td>23680.000000</td>\n",
       "      <td>23680.000000</td>\n",
       "      <td>23680.000000</td>\n",
       "      <td>23680.000000</td>\n",
       "      <td>23680.000000</td>\n",
       "      <td>23680.000000</td>\n",
       "      <td>23680.000000</td>\n",
       "      <td>23680.000000</td>\n",
       "      <td>28489.000000</td>\n",
       "    </tr>\n",
       "    <tr>\n",
       "      <th>mean</th>\n",
       "      <td>80.670763</td>\n",
       "      <td>11.271157</td>\n",
       "      <td>2.908333</td>\n",
       "      <td>0.11018</td>\n",
       "      <td>2.213628e+05</td>\n",
       "      <td>40.546393</td>\n",
       "      <td>0.598318</td>\n",
       "      <td>0.618100</td>\n",
       "      <td>5.239189</td>\n",
       "      <td>-8.712564</td>\n",
       "      <td>0.729688</td>\n",
       "      <td>0.071810</td>\n",
       "      <td>0.296040</td>\n",
       "      <td>0.033250</td>\n",
       "      <td>0.192632</td>\n",
       "      <td>0.605254</td>\n",
       "      <td>120.197978</td>\n",
       "      <td>3.930785</td>\n",
       "      <td>46.547404</td>\n",
       "    </tr>\n",
       "    <tr>\n",
       "      <th>std</th>\n",
       "      <td>18.275167</td>\n",
       "      <td>8.179772</td>\n",
       "      <td>2.526582</td>\n",
       "      <td>0.31312</td>\n",
       "      <td>6.811626e+04</td>\n",
       "      <td>22.229914</td>\n",
       "      <td>0.152968</td>\n",
       "      <td>0.200039</td>\n",
       "      <td>3.559710</td>\n",
       "      <td>3.612757</td>\n",
       "      <td>0.444131</td>\n",
       "      <td>0.080615</td>\n",
       "      <td>0.282873</td>\n",
       "      <td>0.137815</td>\n",
       "      <td>0.159794</td>\n",
       "      <td>0.238211</td>\n",
       "      <td>28.002601</td>\n",
       "      <td>0.320845</td>\n",
       "      <td>30.554001</td>\n",
       "    </tr>\n",
       "    <tr>\n",
       "      <th>min</th>\n",
       "      <td>1.000000</td>\n",
       "      <td>1.000000</td>\n",
       "      <td>1.000000</td>\n",
       "      <td>0.00000</td>\n",
       "      <td>2.968800e+04</td>\n",
       "      <td>0.000000</td>\n",
       "      <td>0.000000</td>\n",
       "      <td>0.000581</td>\n",
       "      <td>0.000000</td>\n",
       "      <td>-28.030000</td>\n",
       "      <td>0.000000</td>\n",
       "      <td>0.000000</td>\n",
       "      <td>0.000003</td>\n",
       "      <td>0.000000</td>\n",
       "      <td>0.009670</td>\n",
       "      <td>0.000000</td>\n",
       "      <td>0.000000</td>\n",
       "      <td>0.000000</td>\n",
       "      <td>1.000000</td>\n",
       "    </tr>\n",
       "    <tr>\n",
       "      <th>25%</th>\n",
       "      <td>74.000000</td>\n",
       "      <td>5.000000</td>\n",
       "      <td>1.000000</td>\n",
       "      <td>0.00000</td>\n",
       "      <td>1.754135e+05</td>\n",
       "      <td>22.000000</td>\n",
       "      <td>0.497000</td>\n",
       "      <td>0.473000</td>\n",
       "      <td>2.000000</td>\n",
       "      <td>-11.103500</td>\n",
       "      <td>0.000000</td>\n",
       "      <td>0.032000</td>\n",
       "      <td>0.046800</td>\n",
       "      <td>0.000000</td>\n",
       "      <td>0.090500</td>\n",
       "      <td>0.420000</td>\n",
       "      <td>99.081250</td>\n",
       "      <td>4.000000</td>\n",
       "      <td>18.000000</td>\n",
       "    </tr>\n",
       "    <tr>\n",
       "      <th>50%</th>\n",
       "      <td>86.000000</td>\n",
       "      <td>10.000000</td>\n",
       "      <td>2.000000</td>\n",
       "      <td>0.00000</td>\n",
       "      <td>2.156130e+05</td>\n",
       "      <td>42.000000</td>\n",
       "      <td>0.606000</td>\n",
       "      <td>0.634000</td>\n",
       "      <td>5.000000</td>\n",
       "      <td>-8.284500</td>\n",
       "      <td>1.000000</td>\n",
       "      <td>0.041000</td>\n",
       "      <td>0.197000</td>\n",
       "      <td>0.000005</td>\n",
       "      <td>0.131000</td>\n",
       "      <td>0.627000</td>\n",
       "      <td>118.772000</td>\n",
       "      <td>4.000000</td>\n",
       "      <td>46.000000</td>\n",
       "    </tr>\n",
       "    <tr>\n",
       "      <th>75%</th>\n",
       "      <td>93.000000</td>\n",
       "      <td>16.000000</td>\n",
       "      <td>4.000000</td>\n",
       "      <td>0.00000</td>\n",
       "      <td>2.541330e+05</td>\n",
       "      <td>58.000000</td>\n",
       "      <td>0.707000</td>\n",
       "      <td>0.779000</td>\n",
       "      <td>8.000000</td>\n",
       "      <td>-5.890750</td>\n",
       "      <td>1.000000</td>\n",
       "      <td>0.066800</td>\n",
       "      <td>0.513000</td>\n",
       "      <td>0.000497</td>\n",
       "      <td>0.249000</td>\n",
       "      <td>0.805000</td>\n",
       "      <td>136.122000</td>\n",
       "      <td>4.000000</td>\n",
       "      <td>73.000000</td>\n",
       "    </tr>\n",
       "    <tr>\n",
       "      <th>max</th>\n",
       "      <td>100.000000</td>\n",
       "      <td>87.000000</td>\n",
       "      <td>19.000000</td>\n",
       "      <td>1.00000</td>\n",
       "      <td>3.079157e+06</td>\n",
       "      <td>100.000000</td>\n",
       "      <td>0.988000</td>\n",
       "      <td>0.997000</td>\n",
       "      <td>11.000000</td>\n",
       "      <td>2.291000</td>\n",
       "      <td>1.000000</td>\n",
       "      <td>0.951000</td>\n",
       "      <td>0.991000</td>\n",
       "      <td>0.982000</td>\n",
       "      <td>0.999000</td>\n",
       "      <td>0.991000</td>\n",
       "      <td>241.009000</td>\n",
       "      <td>5.000000</td>\n",
       "      <td>100.000000</td>\n",
       "    </tr>\n",
       "  </tbody>\n",
       "</table>\n",
       "</div>"
      ],
      "text/plain": [
       "        chart debut  weeks on chart  ...  time_signature  melhor posicao\n",
       "count  28481.000000    28489.000000  ...    23680.000000    28489.000000\n",
       "mean      80.670763       11.271157  ...        3.930785       46.547404\n",
       "std       18.275167        8.179772  ...        0.320845       30.554001\n",
       "min        1.000000        1.000000  ...        0.000000        1.000000\n",
       "25%       74.000000        5.000000  ...        4.000000       18.000000\n",
       "50%       86.000000       10.000000  ...        4.000000       46.000000\n",
       "75%       93.000000       16.000000  ...        4.000000       73.000000\n",
       "max      100.000000       87.000000  ...        5.000000      100.000000\n",
       "\n",
       "[8 rows x 19 columns]"
      ]
     },
     "execution_count": 74,
     "metadata": {
      "tags": []
     },
     "output_type": "execute_result"
    }
   ],
   "source": [
    "#vamos olhar os dados gerais\n",
    "features.describe()"
   ]
  },
  {
   "cell_type": "code",
   "execution_count": null,
   "metadata": {
    "colab": {
     "base_uri": "https://localhost:8080/",
     "height": 334
    },
    "id": "gfiIHw50owQX",
    "outputId": "3d5eb0d6-b340-4cf9-e246-1f8f2fdd39f8"
   },
   "outputs": [
    {
     "data": {
      "text/html": [
       "<div>\n",
       "<style scoped>\n",
       "    .dataframe tbody tr th:only-of-type {\n",
       "        vertical-align: middle;\n",
       "    }\n",
       "\n",
       "    .dataframe tbody tr th {\n",
       "        vertical-align: top;\n",
       "    }\n",
       "\n",
       "    .dataframe thead th {\n",
       "        text-align: right;\n",
       "    }\n",
       "</style>\n",
       "<table border=\"1\" class=\"dataframe\">\n",
       "  <thead>\n",
       "    <tr style=\"text-align: right;\">\n",
       "      <th></th>\n",
       "      <th>chart debut</th>\n",
       "      <th>weeks on chart</th>\n",
       "      <th>weeks on top1</th>\n",
       "      <th>spotify_track_explicit</th>\n",
       "      <th>spotify_track_duration_ms</th>\n",
       "      <th>spotify_track_popularity</th>\n",
       "      <th>danceability</th>\n",
       "      <th>energy</th>\n",
       "      <th>key</th>\n",
       "      <th>loudness</th>\n",
       "      <th>mode</th>\n",
       "      <th>speechiness</th>\n",
       "      <th>acousticness</th>\n",
       "      <th>instrumentalness</th>\n",
       "      <th>liveness</th>\n",
       "      <th>valence</th>\n",
       "      <th>tempo</th>\n",
       "      <th>time_signature</th>\n",
       "      <th>melhor posicao</th>\n",
       "    </tr>\n",
       "  </thead>\n",
       "  <tbody>\n",
       "    <tr>\n",
       "      <th>count</th>\n",
       "      <td>4849.000000</td>\n",
       "      <td>4850.000000</td>\n",
       "      <td>1080.000000</td>\n",
       "      <td>4415.000000</td>\n",
       "      <td>4.415000e+03</td>\n",
       "      <td>4415.000000</td>\n",
       "      <td>4407.000000</td>\n",
       "      <td>4407.000000</td>\n",
       "      <td>4407.000000</td>\n",
       "      <td>4407.000000</td>\n",
       "      <td>4407.000000</td>\n",
       "      <td>4407.000000</td>\n",
       "      <td>4407.000000</td>\n",
       "      <td>4407.000000</td>\n",
       "      <td>4407.000000</td>\n",
       "      <td>4407.000000</td>\n",
       "      <td>4407.000000</td>\n",
       "      <td>4407.000000</td>\n",
       "      <td>4850.000000</td>\n",
       "    </tr>\n",
       "    <tr>\n",
       "      <th>mean</th>\n",
       "      <td>68.780986</td>\n",
       "      <td>20.648866</td>\n",
       "      <td>2.908333</td>\n",
       "      <td>0.076784</td>\n",
       "      <td>2.262892e+05</td>\n",
       "      <td>54.194337</td>\n",
       "      <td>0.616782</td>\n",
       "      <td>0.609262</td>\n",
       "      <td>5.174495</td>\n",
       "      <td>-8.897103</td>\n",
       "      <td>0.712276</td>\n",
       "      <td>0.066583</td>\n",
       "      <td>0.296597</td>\n",
       "      <td>0.029207</td>\n",
       "      <td>0.181492</td>\n",
       "      <td>0.626287</td>\n",
       "      <td>119.122281</td>\n",
       "      <td>3.949399</td>\n",
       "      <td>4.695258</td>\n",
       "    </tr>\n",
       "    <tr>\n",
       "      <th>std</th>\n",
       "      <td>23.736762</td>\n",
       "      <td>8.703012</td>\n",
       "      <td>2.526582</td>\n",
       "      <td>0.266278</td>\n",
       "      <td>6.606249e+04</td>\n",
       "      <td>17.397986</td>\n",
       "      <td>0.152885</td>\n",
       "      <td>0.196086</td>\n",
       "      <td>3.555373</td>\n",
       "      <td>3.581211</td>\n",
       "      <td>0.452753</td>\n",
       "      <td>0.072511</td>\n",
       "      <td>0.275009</td>\n",
       "      <td>0.127783</td>\n",
       "      <td>0.154361</td>\n",
       "      <td>0.239425</td>\n",
       "      <td>27.000556</td>\n",
       "      <td>0.269377</td>\n",
       "      <td>3.030252</td>\n",
       "    </tr>\n",
       "    <tr>\n",
       "      <th>min</th>\n",
       "      <td>1.000000</td>\n",
       "      <td>1.000000</td>\n",
       "      <td>1.000000</td>\n",
       "      <td>0.000000</td>\n",
       "      <td>7.496000e+04</td>\n",
       "      <td>0.000000</td>\n",
       "      <td>0.126000</td>\n",
       "      <td>0.020100</td>\n",
       "      <td>0.000000</td>\n",
       "      <td>-24.709000</td>\n",
       "      <td>0.000000</td>\n",
       "      <td>0.022100</td>\n",
       "      <td>0.000015</td>\n",
       "      <td>0.000000</td>\n",
       "      <td>0.009670</td>\n",
       "      <td>0.038200</td>\n",
       "      <td>36.710000</td>\n",
       "      <td>0.000000</td>\n",
       "      <td>1.000000</td>\n",
       "    </tr>\n",
       "    <tr>\n",
       "      <th>25%</th>\n",
       "      <td>58.000000</td>\n",
       "      <td>15.000000</td>\n",
       "      <td>1.000000</td>\n",
       "      <td>0.000000</td>\n",
       "      <td>1.805530e+05</td>\n",
       "      <td>44.000000</td>\n",
       "      <td>0.519500</td>\n",
       "      <td>0.466000</td>\n",
       "      <td>2.000000</td>\n",
       "      <td>-11.348000</td>\n",
       "      <td>0.000000</td>\n",
       "      <td>0.031700</td>\n",
       "      <td>0.054350</td>\n",
       "      <td>0.000000</td>\n",
       "      <td>0.085250</td>\n",
       "      <td>0.444000</td>\n",
       "      <td>99.751500</td>\n",
       "      <td>4.000000</td>\n",
       "      <td>2.000000</td>\n",
       "    </tr>\n",
       "    <tr>\n",
       "      <th>50%</th>\n",
       "      <td>75.000000</td>\n",
       "      <td>19.000000</td>\n",
       "      <td>2.000000</td>\n",
       "      <td>0.000000</td>\n",
       "      <td>2.234400e+05</td>\n",
       "      <td>55.000000</td>\n",
       "      <td>0.629000</td>\n",
       "      <td>0.622000</td>\n",
       "      <td>5.000000</td>\n",
       "      <td>-8.513000</td>\n",
       "      <td>1.000000</td>\n",
       "      <td>0.039800</td>\n",
       "      <td>0.206000</td>\n",
       "      <td>0.000006</td>\n",
       "      <td>0.124000</td>\n",
       "      <td>0.655000</td>\n",
       "      <td>117.938000</td>\n",
       "      <td>4.000000</td>\n",
       "      <td>4.000000</td>\n",
       "    </tr>\n",
       "    <tr>\n",
       "      <th>75%</th>\n",
       "      <td>86.000000</td>\n",
       "      <td>24.000000</td>\n",
       "      <td>4.000000</td>\n",
       "      <td>0.000000</td>\n",
       "      <td>2.591000e+05</td>\n",
       "      <td>67.000000</td>\n",
       "      <td>0.725000</td>\n",
       "      <td>0.767000</td>\n",
       "      <td>8.000000</td>\n",
       "      <td>-6.099000</td>\n",
       "      <td>1.000000</td>\n",
       "      <td>0.063450</td>\n",
       "      <td>0.499000</td>\n",
       "      <td>0.000526</td>\n",
       "      <td>0.231000</td>\n",
       "      <td>0.829500</td>\n",
       "      <td>133.496500</td>\n",
       "      <td>4.000000</td>\n",
       "      <td>7.000000</td>\n",
       "    </tr>\n",
       "    <tr>\n",
       "      <th>max</th>\n",
       "      <td>100.000000</td>\n",
       "      <td>87.000000</td>\n",
       "      <td>19.000000</td>\n",
       "      <td>1.000000</td>\n",
       "      <td>1.561133e+06</td>\n",
       "      <td>100.000000</td>\n",
       "      <td>0.988000</td>\n",
       "      <td>0.994000</td>\n",
       "      <td>11.000000</td>\n",
       "      <td>-0.810000</td>\n",
       "      <td>1.000000</td>\n",
       "      <td>0.693000</td>\n",
       "      <td>0.991000</td>\n",
       "      <td>0.963000</td>\n",
       "      <td>0.991000</td>\n",
       "      <td>0.990000</td>\n",
       "      <td>210.750000</td>\n",
       "      <td>5.000000</td>\n",
       "      <td>10.000000</td>\n",
       "    </tr>\n",
       "  </tbody>\n",
       "</table>\n",
       "</div>"
      ],
      "text/plain": [
       "       chart debut  weeks on chart  ...  time_signature  melhor posicao\n",
       "count  4849.000000     4850.000000  ...     4407.000000     4850.000000\n",
       "mean     68.780986       20.648866  ...        3.949399        4.695258\n",
       "std      23.736762        8.703012  ...        0.269377        3.030252\n",
       "min       1.000000        1.000000  ...        0.000000        1.000000\n",
       "25%      58.000000       15.000000  ...        4.000000        2.000000\n",
       "50%      75.000000       19.000000  ...        4.000000        4.000000\n",
       "75%      86.000000       24.000000  ...        4.000000        7.000000\n",
       "max     100.000000       87.000000  ...        5.000000       10.000000\n",
       "\n",
       "[8 rows x 19 columns]"
      ]
     },
     "execution_count": 75,
     "metadata": {
      "tags": []
     },
     "output_type": "execute_result"
    }
   ],
   "source": [
    "#agora para o top10\n",
    "top10 = features[features['melhor posicao'] <= 10]\n",
    "top10.describe()"
   ]
  },
  {
   "cell_type": "code",
   "execution_count": null,
   "metadata": {
    "colab": {
     "base_uri": "https://localhost:8080/",
     "height": 351
    },
    "id": "LrfLLOFXoyug",
    "outputId": "d0ac398c-5cc2-4695-940e-315f3b2e41dc"
   },
   "outputs": [
    {
     "data": {
      "text/html": [
       "<div>\n",
       "<style scoped>\n",
       "    .dataframe tbody tr th:only-of-type {\n",
       "        vertical-align: middle;\n",
       "    }\n",
       "\n",
       "    .dataframe tbody tr th {\n",
       "        vertical-align: top;\n",
       "    }\n",
       "\n",
       "    .dataframe thead th {\n",
       "        text-align: right;\n",
       "    }\n",
       "</style>\n",
       "<table border=\"1\" class=\"dataframe\">\n",
       "  <thead>\n",
       "    <tr style=\"text-align: right;\">\n",
       "      <th></th>\n",
       "      <th>chart debut</th>\n",
       "      <th>weeks on chart</th>\n",
       "      <th>weeks on top1</th>\n",
       "      <th>spotify_track_explicit</th>\n",
       "      <th>spotify_track_duration_ms</th>\n",
       "      <th>spotify_track_popularity</th>\n",
       "      <th>danceability</th>\n",
       "      <th>energy</th>\n",
       "      <th>key</th>\n",
       "      <th>loudness</th>\n",
       "      <th>mode</th>\n",
       "      <th>speechiness</th>\n",
       "      <th>acousticness</th>\n",
       "      <th>instrumentalness</th>\n",
       "      <th>liveness</th>\n",
       "      <th>valence</th>\n",
       "      <th>tempo</th>\n",
       "      <th>time_signature</th>\n",
       "      <th>melhor posicao</th>\n",
       "    </tr>\n",
       "  </thead>\n",
       "  <tbody>\n",
       "    <tr>\n",
       "      <th>count</th>\n",
       "      <td>2963.000000</td>\n",
       "      <td>2964.000000</td>\n",
       "      <td>0.0</td>\n",
       "      <td>2142.000000</td>\n",
       "      <td>2142.000000</td>\n",
       "      <td>2142.000000</td>\n",
       "      <td>2134.000000</td>\n",
       "      <td>2134.000000</td>\n",
       "      <td>2134.000000</td>\n",
       "      <td>2134.000000</td>\n",
       "      <td>2134.000000</td>\n",
       "      <td>2134.000000</td>\n",
       "      <td>2134.000000</td>\n",
       "      <td>2134.000000</td>\n",
       "      <td>2134.000000</td>\n",
       "      <td>2134.000000</td>\n",
       "      <td>2134.000000</td>\n",
       "      <td>2134.000000</td>\n",
       "      <td>2964.000000</td>\n",
       "    </tr>\n",
       "    <tr>\n",
       "      <th>mean</th>\n",
       "      <td>96.106649</td>\n",
       "      <td>2.362348</td>\n",
       "      <td>NaN</td>\n",
       "      <td>0.133520</td>\n",
       "      <td>206704.151727</td>\n",
       "      <td>30.035948</td>\n",
       "      <td>0.583227</td>\n",
       "      <td>0.604509</td>\n",
       "      <td>5.210403</td>\n",
       "      <td>-8.603953</td>\n",
       "      <td>0.727741</td>\n",
       "      <td>0.078604</td>\n",
       "      <td>0.339485</td>\n",
       "      <td>0.039583</td>\n",
       "      <td>0.197342</td>\n",
       "      <td>0.593064</td>\n",
       "      <td>119.411306</td>\n",
       "      <td>3.886598</td>\n",
       "      <td>94.569501</td>\n",
       "    </tr>\n",
       "    <tr>\n",
       "      <th>std</th>\n",
       "      <td>2.953174</td>\n",
       "      <td>1.551983</td>\n",
       "      <td>NaN</td>\n",
       "      <td>0.340215</td>\n",
       "      <td>61822.595428</td>\n",
       "      <td>22.790931</td>\n",
       "      <td>0.158264</td>\n",
       "      <td>0.204017</td>\n",
       "      <td>3.596668</td>\n",
       "      <td>3.538585</td>\n",
       "      <td>0.445227</td>\n",
       "      <td>0.089625</td>\n",
       "      <td>0.299408</td>\n",
       "      <td>0.152460</td>\n",
       "      <td>0.159133</td>\n",
       "      <td>0.237965</td>\n",
       "      <td>29.463971</td>\n",
       "      <td>0.394855</td>\n",
       "      <td>3.046866</td>\n",
       "    </tr>\n",
       "    <tr>\n",
       "      <th>min</th>\n",
       "      <td>90.000000</td>\n",
       "      <td>1.000000</td>\n",
       "      <td>NaN</td>\n",
       "      <td>0.000000</td>\n",
       "      <td>71306.000000</td>\n",
       "      <td>0.000000</td>\n",
       "      <td>0.105000</td>\n",
       "      <td>0.018100</td>\n",
       "      <td>0.000000</td>\n",
       "      <td>-22.604000</td>\n",
       "      <td>0.000000</td>\n",
       "      <td>0.022400</td>\n",
       "      <td>0.000003</td>\n",
       "      <td>0.000000</td>\n",
       "      <td>0.016900</td>\n",
       "      <td>0.036100</td>\n",
       "      <td>47.940000</td>\n",
       "      <td>1.000000</td>\n",
       "      <td>90.000000</td>\n",
       "    </tr>\n",
       "    <tr>\n",
       "      <th>25%</th>\n",
       "      <td>94.000000</td>\n",
       "      <td>1.000000</td>\n",
       "      <td>NaN</td>\n",
       "      <td>0.000000</td>\n",
       "      <td>161309.500000</td>\n",
       "      <td>9.000000</td>\n",
       "      <td>0.480000</td>\n",
       "      <td>0.451000</td>\n",
       "      <td>2.000000</td>\n",
       "      <td>-10.903750</td>\n",
       "      <td>0.000000</td>\n",
       "      <td>0.032500</td>\n",
       "      <td>0.053400</td>\n",
       "      <td>0.000000</td>\n",
       "      <td>0.093550</td>\n",
       "      <td>0.398000</td>\n",
       "      <td>96.690000</td>\n",
       "      <td>4.000000</td>\n",
       "      <td>92.000000</td>\n",
       "    </tr>\n",
       "    <tr>\n",
       "      <th>50%</th>\n",
       "      <td>97.000000</td>\n",
       "      <td>2.000000</td>\n",
       "      <td>NaN</td>\n",
       "      <td>0.000000</td>\n",
       "      <td>197290.000000</td>\n",
       "      <td>26.000000</td>\n",
       "      <td>0.590000</td>\n",
       "      <td>0.621000</td>\n",
       "      <td>5.000000</td>\n",
       "      <td>-8.189000</td>\n",
       "      <td>1.000000</td>\n",
       "      <td>0.041850</td>\n",
       "      <td>0.263000</td>\n",
       "      <td>0.000004</td>\n",
       "      <td>0.136000</td>\n",
       "      <td>0.603500</td>\n",
       "      <td>116.925000</td>\n",
       "      <td>4.000000</td>\n",
       "      <td>94.000000</td>\n",
       "    </tr>\n",
       "    <tr>\n",
       "      <th>75%</th>\n",
       "      <td>99.000000</td>\n",
       "      <td>3.000000</td>\n",
       "      <td>NaN</td>\n",
       "      <td>0.000000</td>\n",
       "      <td>238736.000000</td>\n",
       "      <td>48.000000</td>\n",
       "      <td>0.694750</td>\n",
       "      <td>0.762750</td>\n",
       "      <td>8.000000</td>\n",
       "      <td>-5.878000</td>\n",
       "      <td>1.000000</td>\n",
       "      <td>0.075375</td>\n",
       "      <td>0.598000</td>\n",
       "      <td>0.000423</td>\n",
       "      <td>0.254750</td>\n",
       "      <td>0.791750</td>\n",
       "      <td>136.567000</td>\n",
       "      <td>4.000000</td>\n",
       "      <td>97.000000</td>\n",
       "    </tr>\n",
       "    <tr>\n",
       "      <th>max</th>\n",
       "      <td>100.000000</td>\n",
       "      <td>17.000000</td>\n",
       "      <td>NaN</td>\n",
       "      <td>1.000000</td>\n",
       "      <td>620101.000000</td>\n",
       "      <td>90.000000</td>\n",
       "      <td>0.962000</td>\n",
       "      <td>0.995000</td>\n",
       "      <td>11.000000</td>\n",
       "      <td>-0.945000</td>\n",
       "      <td>1.000000</td>\n",
       "      <td>0.846000</td>\n",
       "      <td>0.990000</td>\n",
       "      <td>0.941000</td>\n",
       "      <td>0.988000</td>\n",
       "      <td>0.988000</td>\n",
       "      <td>213.737000</td>\n",
       "      <td>5.000000</td>\n",
       "      <td>100.000000</td>\n",
       "    </tr>\n",
       "  </tbody>\n",
       "</table>\n",
       "</div>"
      ],
      "text/plain": [
       "       chart debut  weeks on chart  ...  time_signature  melhor posicao\n",
       "count  2963.000000     2964.000000  ...     2134.000000     2964.000000\n",
       "mean     96.106649        2.362348  ...        3.886598       94.569501\n",
       "std       2.953174        1.551983  ...        0.394855        3.046866\n",
       "min      90.000000        1.000000  ...        1.000000       90.000000\n",
       "25%      94.000000        1.000000  ...        4.000000       92.000000\n",
       "50%      97.000000        2.000000  ...        4.000000       94.000000\n",
       "75%      99.000000        3.000000  ...        4.000000       97.000000\n",
       "max     100.000000       17.000000  ...        5.000000      100.000000\n",
       "\n",
       "[8 rows x 19 columns]"
      ]
     },
     "execution_count": 76,
     "metadata": {
      "tags": []
     },
     "output_type": "execute_result"
    }
   ],
   "source": [
    "#para o restante das musicas\n",
    "under_top90 = features[features['melhor posicao'] >= 90]\n",
    "under_top90.describe()"
   ]
  },
  {
   "cell_type": "code",
   "execution_count": null,
   "metadata": {
    "colab": {
     "base_uri": "https://localhost:8080/",
     "height": 642
    },
    "id": "ox1iUQeLo06R",
    "outputId": "17ac4e15-baee-4635-cf29-9081364def5b"
   },
   "outputs": [
    {
     "name": "stderr",
     "output_type": "stream",
     "text": [
      "/usr/local/lib/python3.6/dist-packages/numpy/lib/histograms.py:839: RuntimeWarning: invalid value encountered in greater_equal\n",
      "  keep = (tmp_a >= first_edge)\n",
      "/usr/local/lib/python3.6/dist-packages/numpy/lib/histograms.py:840: RuntimeWarning: invalid value encountered in less_equal\n",
      "  keep &= (tmp_a <= last_edge)\n"
     ]
    },
    {
     "data": {
      "text/plain": [
       "<matplotlib.legend.Legend at 0x7fb2a41eec88>"
      ]
     },
     "execution_count": 77,
     "metadata": {
      "tags": []
     },
     "output_type": "execute_result"
    },
    {
     "data": {
      "image/png": "[encoded data removed]",
      "text/plain": [
       "<Figure size 1080x648 with 1 Axes>"
      ]
     },
     "metadata": {
      "tags": []
     },
     "output_type": "display_data"
    }
   ],
   "source": [
    "plt.hist(under_top90['danceability'], alpha=0.3, edgecolor='k', label='abaixo do top90')\n",
    "plt.hist(top10['danceability'], alpha=0.3, edgecolor='k', label='top10')\n",
    "despine()\n",
    "plt.xlabel('danceability')\n",
    "plt.ylabel('Numero de musicas')\n",
    "plt.legend()"
   ]
  },
  {
   "cell_type": "code",
   "execution_count": null,
   "metadata": {
    "id": "PRYJ9RU3A2P0"
   },
   "outputs": [],
   "source": [
    "#top genero musical ao longo dos anos \n",
    "#(precisa arrumar ainda)\n",
    "#topGenre= features.groupby(by=['spotify_genre','ano']).count().sort_values(by='SongID')['SongID'][::-1]"
   ]
  },
  {
   "cell_type": "code",
   "execution_count": null,
   "metadata": {
    "id": "mAYYYaixGjlB"
   },
   "outputs": [],
   "source": []
  }
 ],
 "metadata": {
  "colab": {
   "collapsed_sections": [],
   "name": "trabalho.ipynb",
   "provenance": []
  },
  "kernelspec": {
   "display_name": "Python 3",
   "language": "python",
   "name": "python3"
  },
  "language_info": {
   "codemirror_mode": {
    "name": "ipython",
    "version": 3
   },
   "file_extension": ".py",
   "mimetype": "text/x-python",
   "name": "python",
   "nbconvert_exporter": "python",
   "pygments_lexer": "ipython3",
   "version": "3.8.2"
  }
 },
 "nbformat": 4,
 "nbformat_minor": 1
}
