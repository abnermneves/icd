{
 "cells": [
  {
   "cell_type": "markdown",
   "metadata": {
    "deletable": false,
    "editable": false,
    "nbgrader": {
     "cell_type": "markdown",
     "checksum": "0e120e1b654bc38ffc686a964e6cc7ba",
     "grade": false,
     "grade_id": "cell-75fa16f93b279502",
     "locked": true,
     "schema_version": 3,
     "solution": false,
     "task": false
    }
   },
   "source": [
    "# Lista 05 - IC + Teste de Hipóteses"
   ]
  },
  {
   "cell_type": "code",
   "execution_count": 1,
   "metadata": {
    "deletable": false,
    "editable": false,
    "nbgrader": {
     "cell_type": "code",
     "checksum": "efa9fa4d7c64847f35885cb915e005a4",
     "grade": false,
     "grade_id": "cell-a5aa0941d0a7d477",
     "locked": true,
     "schema_version": 3,
     "solution": false,
     "task": false
    }
   },
   "outputs": [],
   "source": [
    "import pandas as pd\n",
    "import matplotlib.pyplot as plt\n",
    "import numpy as np\n",
    "import math\n",
    "\n",
    "from scipy.stats import binom"
   ]
  },
  {
   "cell_type": "markdown",
   "metadata": {
    "deletable": false,
    "editable": false,
    "nbgrader": {
     "cell_type": "markdown",
     "checksum": "c5d5bb972e7c072ed73319ecd610cdc0",
     "grade": false,
     "grade_id": "cell-50122483e082f1ba",
     "locked": true,
     "schema_version": 3,
     "solution": false,
     "task": false
    }
   },
   "source": [
    "# Exercício 1\n",
    "\n",
    "Utilize o dataset dados-covid-mg para explorar a seguinte hipótese:\n",
    "\n",
    "Hipótese: Em MG cerca de 50% da população já foi detectada com COVID.\n",
    "\n",
    "Dataset obtido no openDataSUS, um recorte do estado de MG. Para facilitar, algumas colunas foram removidas e o atributo classificacaoFinal foi binarizado."
   ]
  },
  {
   "cell_type": "code",
   "execution_count": 2,
   "metadata": {
    "deletable": false,
    "editable": false,
    "nbgrader": {
     "cell_type": "code",
     "checksum": "44ba63b4803d796bb238136dfa5f6c7b",
     "grade": false,
     "grade_id": "cell-9129ebc281fc622a",
     "locked": true,
     "schema_version": 3,
     "solution": false,
     "task": false
    }
   },
   "outputs": [
    {
     "data": {
      "text/html": [
       "<div>\n",
       "<style scoped>\n",
       "    .dataframe tbody tr th:only-of-type {\n",
       "        vertical-align: middle;\n",
       "    }\n",
       "\n",
       "    .dataframe tbody tr th {\n",
       "        vertical-align: top;\n",
       "    }\n",
       "\n",
       "    .dataframe thead th {\n",
       "        text-align: right;\n",
       "    }\n",
       "</style>\n",
       "<table border=\"1\" class=\"dataframe\">\n",
       "  <thead>\n",
       "    <tr style=\"text-align: right;\">\n",
       "      <th></th>\n",
       "      <th>id</th>\n",
       "      <th>profissionalSaude</th>\n",
       "      <th>tipoTeste</th>\n",
       "      <th>resultadoTeste</th>\n",
       "      <th>estado</th>\n",
       "      <th>municipio</th>\n",
       "      <th>classificacaoFinal</th>\n",
       "    </tr>\n",
       "  </thead>\n",
       "  <tbody>\n",
       "    <tr>\n",
       "      <th>0</th>\n",
       "      <td>R3y2Di9K0s</td>\n",
       "      <td>Não</td>\n",
       "      <td>RT-PCR</td>\n",
       "      <td>Negativo</td>\n",
       "      <td>MINAS GERAIS</td>\n",
       "      <td>Varginha</td>\n",
       "      <td>0</td>\n",
       "    </tr>\n",
       "    <tr>\n",
       "      <th>1</th>\n",
       "      <td>4awz0HPaCl</td>\n",
       "      <td>Sim</td>\n",
       "      <td>RT-PCR</td>\n",
       "      <td>Negativo</td>\n",
       "      <td>MINAS GERAIS</td>\n",
       "      <td>Carmópolis de Minas</td>\n",
       "      <td>0</td>\n",
       "    </tr>\n",
       "    <tr>\n",
       "      <th>2</th>\n",
       "      <td>0RjrlH0bs5</td>\n",
       "      <td>Não</td>\n",
       "      <td>NaN</td>\n",
       "      <td>NaN</td>\n",
       "      <td>MINAS GERAIS</td>\n",
       "      <td>Conselheiro Lafaiete</td>\n",
       "      <td>0</td>\n",
       "    </tr>\n",
       "    <tr>\n",
       "      <th>3</th>\n",
       "      <td>83B4gJDLpU</td>\n",
       "      <td>Não</td>\n",
       "      <td>NaN</td>\n",
       "      <td>NaN</td>\n",
       "      <td>MINAS GERAIS</td>\n",
       "      <td>Mariana</td>\n",
       "      <td>0</td>\n",
       "    </tr>\n",
       "    <tr>\n",
       "      <th>4</th>\n",
       "      <td>H8GKXacI4T</td>\n",
       "      <td>Não</td>\n",
       "      <td>NaN</td>\n",
       "      <td>NaN</td>\n",
       "      <td>MINAS GERAIS</td>\n",
       "      <td>Januária</td>\n",
       "      <td>0</td>\n",
       "    </tr>\n",
       "  </tbody>\n",
       "</table>\n",
       "</div>"
      ],
      "text/plain": [
       "           id profissionalSaude tipoTeste resultadoTeste        estado  \\\n",
       "0  R3y2Di9K0s               Não    RT-PCR       Negativo  MINAS GERAIS   \n",
       "1  4awz0HPaCl               Sim    RT-PCR       Negativo  MINAS GERAIS   \n",
       "2  0RjrlH0bs5               Não       NaN            NaN  MINAS GERAIS   \n",
       "3  83B4gJDLpU               Não       NaN            NaN  MINAS GERAIS   \n",
       "4  H8GKXacI4T               Não       NaN            NaN  MINAS GERAIS   \n",
       "\n",
       "              municipio  classificacaoFinal  \n",
       "0              Varginha                   0  \n",
       "1   Carmópolis de Minas                   0  \n",
       "2  Conselheiro Lafaiete                   0  \n",
       "3               Mariana                   0  \n",
       "4              Januária                   0  "
      ]
     },
     "execution_count": 2,
     "metadata": {},
     "output_type": "execute_result"
    }
   ],
   "source": [
    "df = pd.read_csv('dados-covid-mg.csv')\n",
    "df.head()"
   ]
  },
  {
   "cell_type": "markdown",
   "metadata": {
    "deletable": false,
    "editable": false,
    "nbgrader": {
     "cell_type": "markdown",
     "checksum": "31de4ebb0b9b96a2ff0e624ba07d5516",
     "grade": false,
     "grade_id": "cell-3b461941ee919668",
     "locked": true,
     "schema_version": 3,
     "solution": false,
     "task": false
    }
   },
   "source": [
    "A) Calcule a prevalência de infectados na amostra, armazene na variável p."
   ]
  },
  {
   "cell_type": "code",
   "execution_count": 9,
   "metadata": {
    "deletable": false,
    "nbgrader": {
     "cell_type": "code",
     "checksum": "ed8dd2702bf31724f277ef638431b462",
     "grade": false,
     "grade_id": "cell-bec5d63ea34dcdd3",
     "locked": false,
     "schema_version": 3,
     "solution": true,
     "task": false
    }
   },
   "outputs": [
    {
     "data": {
      "text/plain": [
       "0.409622523888832"
      ]
     },
     "execution_count": 9,
     "metadata": {},
     "output_type": "execute_result"
    }
   ],
   "source": [
    "# YOUR CODE HERE\n",
    "p = len(df[df['classificacaoFinal']==1])/len(df)\n",
    "p\n",
    "#raise NotImplementedError()"
   ]
  },
  {
   "cell_type": "markdown",
   "metadata": {
    "deletable": false,
    "editable": false,
    "nbgrader": {
     "cell_type": "markdown",
     "checksum": "bc530b994dadc85effea8585295051dd",
     "grade": false,
     "grade_id": "cell-871ea00a3fea6962",
     "locked": true,
     "schema_version": 3,
     "solution": false,
     "task": false
    }
   },
   "source": [
    "B) Calcule a variância (utilizando p), armazene em var."
   ]
  },
  {
   "cell_type": "code",
   "execution_count": 10,
   "metadata": {
    "deletable": false,
    "nbgrader": {
     "cell_type": "code",
     "checksum": "ca91d6171af82592ac16876dd9bf4c3e",
     "grade": false,
     "grade_id": "cell-7516a8a398eab1b0",
     "locked": false,
     "schema_version": 3,
     "solution": true,
     "task": false
    }
   },
   "outputs": [
    {
     "data": {
      "text/plain": [
       "0.24183191181177524"
      ]
     },
     "execution_count": 10,
     "metadata": {},
     "output_type": "execute_result"
    }
   ],
   "source": [
    "# YOUR CODE HERE\n",
    "var = np.var(df['classificacaoFinal'])\n",
    "var\n",
    "#raise NotImplementedError()"
   ]
  },
  {
   "cell_type": "markdown",
   "metadata": {
    "deletable": false,
    "editable": false,
    "nbgrader": {
     "cell_type": "markdown",
     "checksum": "47aa887fef43f3f66d9611a6b4a62f8e",
     "grade": false,
     "grade_id": "cell-789a68d867294cae",
     "locked": true,
     "schema_version": 3,
     "solution": false,
     "task": false
    }
   },
   "source": [
    "C) Calcule o intervalo de confiança dessa estimativa, considerando 95% de chance. O resultado deve ser uma tupla a,b armazenada em ic."
   ]
  },
  {
   "cell_type": "code",
   "execution_count": 12,
   "metadata": {
    "deletable": false,
    "nbgrader": {
     "cell_type": "code",
     "checksum": "e3463465b872b6ab7989109e78780dfc",
     "grade": false,
     "grade_id": "cell-6ec307f2b8d87f34",
     "locked": false,
     "schema_version": 3,
     "solution": true,
     "task": false
    }
   },
   "outputs": [
    {
     "data": {
      "text/plain": [
       "(0.40754359272076335, 0.4117014550569007)"
      ]
     },
     "execution_count": 12,
     "metadata": {},
     "output_type": "execute_result"
    }
   ],
   "source": [
    "# YOUR CODE HERE\n",
    "inferior = p - 1.96*math.sqrt(var)/math.sqrt(len(df))\n",
    "superior = p + 1.96*math.sqrt(var)/math.sqrt(len(df))\n",
    "ic = (inferior, superior)\n",
    "ic\n",
    "#raise NotImplementedError()"
   ]
  },
  {
   "cell_type": "markdown",
   "metadata": {
    "deletable": false,
    "editable": false,
    "nbgrader": {
     "cell_type": "markdown",
     "checksum": "7ce18ccfd2a1f7136b45b59e185c1488",
     "grade": false,
     "grade_id": "cell-cf9c58dd514d5e5a",
     "locked": true,
     "schema_version": 3,
     "solution": false,
     "task": false
    }
   },
   "source": [
    "D) Quais as afirmações analíticas podem ser feitas com base nessa exploração? Se julgar necessário plote gráficos que corroborem a análise."
   ]
  },
  {
   "cell_type": "markdown",
   "metadata": {
    "deletable": false,
    "nbgrader": {
     "cell_type": "code",
     "checksum": "40ffd47e017fd761102498065191b749",
     "grade": true,
     "grade_id": "cell-372b0da9e8729747",
     "locked": false,
     "points": 1,
     "schema_version": 3,
     "solution": true,
     "task": false
    }
   },
   "source": [
    "p nos diz que 40.96% dos pacientes na amostra estão infectados.\n",
    "\n",
    "O intervalo de confiança nos diz que, caso fossem feitas outras amostragens parecidas, 95% delas teriam uma quantidade de contaminados variando entre 40.75% e 41.17%\n",
    "\n",
    "Assim, podemos concluir que a quantidade de contaminados na população brasileira muito provavelmente também gira em torno de 40.96%, podendo variar entre 40.75% e 41.17%"
   ]
  },
  {
   "cell_type": "markdown",
   "metadata": {
    "deletable": false,
    "editable": false,
    "nbgrader": {
     "cell_type": "markdown",
     "checksum": "4921471dba3ff9fdfe6a773b91826c3e",
     "grade": false,
     "grade_id": "cell-ef3ae0cc47a50adf",
     "locked": true,
     "schema_version": 3,
     "solution": false,
     "task": false
    }
   },
   "source": [
    "# Exercício 2\n",
    "\n",
    "Hipótese Nula: A prevalência de COVID para profissionais de saúde é igual a de não profissionais de saúde.\n",
    "\n",
    "Utilize o teste de permutação para randomizando os dados, aproximar o p-valor e validar se a hipótese é aceita."
   ]
  },
  {
   "cell_type": "code",
   "execution_count": null,
   "metadata": {
    "deletable": false,
    "editable": false,
    "nbgrader": {
     "cell_type": "code",
     "checksum": "e26f59e78bc28f43c77548c120df5715",
     "grade": false,
     "grade_id": "cell-392a1d5f2eb713c3",
     "locked": true,
     "schema_version": 3,
     "solution": false,
     "task": false
    }
   },
   "outputs": [],
   "source": [
    "#Convertendo as series para numpy\n",
    "profissionais = df['profissionalSaude'].to_numpy()\n",
    "classificacaoFinal = df['classificacaoFinal'].to_numpy()"
   ]
  },
  {
   "cell_type": "markdown",
   "metadata": {
    "deletable": false,
    "editable": false,
    "nbgrader": {
     "cell_type": "markdown",
     "checksum": "24fa136d5cbc9e161eabadd8d03a6fa2",
     "grade": false,
     "grade_id": "cell-5528fde7d0549f46",
     "locked": true,
     "schema_version": 3,
     "solution": false,
     "task": false
    }
   },
   "source": [
    "A) Calcule t_obs, armazene em t_obs."
   ]
  },
  {
   "cell_type": "code",
   "execution_count": null,
   "metadata": {
    "deletable": false,
    "nbgrader": {
     "cell_type": "code",
     "checksum": "fc5a2527cce73ab85c01241922e41f29",
     "grade": false,
     "grade_id": "cell-86fdaf9bb0e28fbd",
     "locked": false,
     "schema_version": 3,
     "solution": true,
     "task": false
    }
   },
   "outputs": [],
   "source": [
    "# YOUR CODE HERE\n",
    "raise NotImplementedError()"
   ]
  },
  {
   "cell_type": "markdown",
   "metadata": {
    "deletable": false,
    "editable": false,
    "nbgrader": {
     "cell_type": "markdown",
     "checksum": "6cb0986c09148c98f9076634ebe8a7fc",
     "grade": false,
     "grade_id": "cell-1e66ab597f807728",
     "locked": true,
     "schema_version": 3,
     "solution": false,
     "task": false
    }
   },
   "source": [
    "B) Implemente o teste de permutação para os dados\n",
    "\n",
    "Relembrando: Shuffle, computar diferença média, fazer isso n vezes.\n",
    "\n",
    "Para sua análise utilize o valor de N que considerar adequado, no entanto na entrega fixe N em 1000. Armazene a lista de diferenças em diferencas."
   ]
  },
  {
   "cell_type": "code",
   "execution_count": null,
   "metadata": {
    "deletable": false,
    "nbgrader": {
     "cell_type": "code",
     "checksum": "c3cdcf889efe81ddc9f3247fe53c021b",
     "grade": true,
     "grade_id": "cell-dd07fc71bd2ba3e3",
     "locked": false,
     "points": 0,
     "schema_version": 3,
     "solution": true,
     "task": false
    }
   },
   "outputs": [],
   "source": [
    "# YOUR CODE HERE\n",
    "raise NotImplementedError()"
   ]
  },
  {
   "cell_type": "markdown",
   "metadata": {
    "deletable": false,
    "editable": false,
    "nbgrader": {
     "cell_type": "markdown",
     "checksum": "4f4b0f088e9e84336277708ff9335a64",
     "grade": false,
     "grade_id": "cell-4896c0a60838cab2",
     "locked": true,
     "schema_version": 3,
     "solution": false,
     "task": false
    }
   },
   "source": [
    "C) Plote o histograma e avalie qual a chance de um t_obs maior que os dados."
   ]
  },
  {
   "cell_type": "code",
   "execution_count": null,
   "metadata": {
    "deletable": false,
    "nbgrader": {
     "cell_type": "code",
     "checksum": "4dd83dafe0319972be6029a4b17d9cad",
     "grade": true,
     "grade_id": "cell-f1a0ed8a7bb3e1d0",
     "locked": false,
     "points": 0.5,
     "schema_version": 3,
     "solution": true,
     "task": false
    }
   },
   "outputs": [],
   "source": [
    "# YOUR CODE HERE\n",
    "raise NotImplementedError()"
   ]
  },
  {
   "cell_type": "markdown",
   "metadata": {
    "deletable": false,
    "editable": false,
    "nbgrader": {
     "cell_type": "markdown",
     "checksum": "e794ccc316c17b2ff8ce6b80fbfd292c",
     "grade": false,
     "grade_id": "cell-1451182143885334",
     "locked": true,
     "schema_version": 3,
     "solution": false,
     "task": false
    }
   },
   "source": [
    "D) A hipótese nula é aceita ou rejeitada? Explique"
   ]
  },
  {
   "cell_type": "code",
   "execution_count": null,
   "metadata": {
    "deletable": false,
    "nbgrader": {
     "cell_type": "code",
     "checksum": "acb98867f179189f0c87b8a7bd1e1760",
     "grade": true,
     "grade_id": "cell-828cf92666d6f930",
     "locked": false,
     "points": 0.5,
     "schema_version": 3,
     "solution": true,
     "task": false
    }
   },
   "outputs": [],
   "source": [
    "# YOUR CODE HERE\n",
    "raise NotImplementedError()"
   ]
  }
 ],
 "metadata": {
  "kernelspec": {
   "display_name": "Python 3",
   "language": "python",
   "name": "python3"
  },
  "language_info": {
   "codemirror_mode": {
    "name": "ipython",
    "version": 3
   },
   "file_extension": ".py",
   "mimetype": "text/x-python",
   "name": "python",
   "nbconvert_exporter": "python",
   "pygments_lexer": "ipython3",
   "version": "3.8.2"
  }
 },
 "nbformat": 4,
 "nbformat_minor": 2
}
