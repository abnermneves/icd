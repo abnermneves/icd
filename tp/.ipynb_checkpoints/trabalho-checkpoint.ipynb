{
 "cells": [
  {
   "cell_type": "code",
   "execution_count": 1,
   "metadata": {
    "id": "9bMRwG7fPKvv"
   },
   "outputs": [],
   "source": [
    "#!pip install -q xlrd\n",
    "import numpy as np\n",
    "import pandas as pd\n",
    "import re\n",
    "import math\n",
    "import matplotlib.pyplot as plt"
   ]
  },
  {
   "cell_type": "code",
   "execution_count": 2,
   "metadata": {
    "id": "AL4csblVd-Xj"
   },
   "outputs": [],
   "source": [
    "hot = pd.read_csv('Hot Stuff.csv', encoding='utf-8')\n",
    "features = pd.read_excel('Hot 100 Audio Features.xlsx')"
   ]
  },
  {
   "cell_type": "markdown",
   "metadata": {
    "id": "LasJIM2LlP2s"
   },
   "source": [
    "<h1>Limpeza e organização dos dados</h1>"
   ]
  },
  {
   "cell_type": "code",
   "execution_count": 3,
   "metadata": {
    "id": "iFaEXY9Ot85F"
   },
   "outputs": [
    {
     "data": {
      "text/plain": [
       "(28377, 22)"
      ]
     },
     "execution_count": 3,
     "metadata": {},
     "output_type": "execute_result"
    }
   ],
   "source": [
    "# tirando duplicatas\n",
    "features.drop_duplicates(subset='SongID', inplace=True, keep='last', ignore_index=True)\n",
    "features.shape"
   ]
  },
  {
   "cell_type": "code",
   "execution_count": 4,
   "metadata": {
    "colab": {
     "base_uri": "https://localhost:8080/",
     "height": 926
    },
    "id": "P39C9hHDlOoS",
    "outputId": "e6d0aee6-8995-4c67-9d07-950b14c59e86"
   },
   "outputs": [],
   "source": [
    "# separando a coluna de gêneros e criando variáveis categóricas para eles\n",
    "\n",
    "features['spotify_genre'].replace(to_replace=\"[\\[\\]\\'\\\"]|^ \", value=\"\", inplace=True, regex=True)\n",
    "features['spotify_genre'].replace(to_replace=\", +\", value=\",\", inplace=True, regex=True)\n",
    "dummies = features['spotify_genre'].str.get_dummies(sep=',')\n",
    "genres = dummies.columns.values\n",
    "features[dummies.columns.values] = dummies"
   ]
  },
  {
   "cell_type": "markdown",
   "metadata": {
    "id": "-2YWspF3Vecq"
   },
   "source": [
    "<h1>Previsão da posição de uma música no chart a partir de suas características</h1>"
   ]
  },
  {
   "cell_type": "code",
   "execution_count": 5,
   "metadata": {
    "id": "pr6LB9JdXGnY"
   },
   "outputs": [],
   "source": [
    "from sklearn.model_selection import train_test_split\n",
    "from sklearn.preprocessing import StandardScaler\n",
    "from sklearn.model_selection import GridSearchCV\n",
    "from sklearn.neighbors import KNeighborsClassifier"
   ]
  },
  {
   "cell_type": "code",
   "execution_count": 6,
   "metadata": {
    "colab": {
     "base_uri": "https://localhost:8080/"
    },
    "id": "60rcrb4oXxSM",
    "outputId": "37ed9b55-ec41-4a7c-88f4-971e70af7d70"
   },
   "outputs": [
    {
     "data": {
      "text/html": [
       "<div>\n",
       "<style scoped>\n",
       "    .dataframe tbody tr th:only-of-type {\n",
       "        vertical-align: middle;\n",
       "    }\n",
       "\n",
       "    .dataframe tbody tr th {\n",
       "        vertical-align: top;\n",
       "    }\n",
       "\n",
       "    .dataframe thead th {\n",
       "        text-align: right;\n",
       "    }\n",
       "</style>\n",
       "<table border=\"1\" class=\"dataframe\">\n",
       "  <thead>\n",
       "    <tr style=\"text-align: right;\">\n",
       "      <th></th>\n",
       "      <th>url</th>\n",
       "      <th>WeekID</th>\n",
       "      <th>Week Position</th>\n",
       "      <th>Song</th>\n",
       "      <th>Performer</th>\n",
       "      <th>SongID</th>\n",
       "      <th>Instance</th>\n",
       "      <th>Previous Week Position</th>\n",
       "      <th>Peak Position</th>\n",
       "      <th>Weeks on Chart</th>\n",
       "      <th>...</th>\n",
       "      <th>worship</th>\n",
       "      <th>wrestling</th>\n",
       "      <th>wu fam</th>\n",
       "      <th>xhosa</th>\n",
       "      <th>yacht rock</th>\n",
       "      <th>ye ye</th>\n",
       "      <th>yodeling</th>\n",
       "      <th>yugoslav rock</th>\n",
       "      <th>zolo</th>\n",
       "      <th>zydeco</th>\n",
       "    </tr>\n",
       "  </thead>\n",
       "  <tbody>\n",
       "    <tr>\n",
       "      <th>0</th>\n",
       "      <td>http://www.billboard.com/charts/hot-100/1958-0...</td>\n",
       "      <td>8/2/1958</td>\n",
       "      <td>1</td>\n",
       "      <td>Poor Little Fool</td>\n",
       "      <td>Ricky Nelson</td>\n",
       "      <td>Poor Little FoolRicky Nelson</td>\n",
       "      <td>1</td>\n",
       "      <td>NaN</td>\n",
       "      <td>1</td>\n",
       "      <td>1</td>\n",
       "      <td>...</td>\n",
       "      <td>NaN</td>\n",
       "      <td>NaN</td>\n",
       "      <td>NaN</td>\n",
       "      <td>NaN</td>\n",
       "      <td>NaN</td>\n",
       "      <td>NaN</td>\n",
       "      <td>NaN</td>\n",
       "      <td>NaN</td>\n",
       "      <td>NaN</td>\n",
       "      <td>NaN</td>\n",
       "    </tr>\n",
       "    <tr>\n",
       "      <th>1</th>\n",
       "      <td>http://www.billboard.com/charts/hot-100/1995-1...</td>\n",
       "      <td>12/2/1995</td>\n",
       "      <td>1</td>\n",
       "      <td>One Sweet Day</td>\n",
       "      <td>Mariah Carey &amp; Boyz II Men</td>\n",
       "      <td>One Sweet DayMariah Carey &amp; Boyz II Men</td>\n",
       "      <td>1</td>\n",
       "      <td>NaN</td>\n",
       "      <td>1</td>\n",
       "      <td>1</td>\n",
       "      <td>...</td>\n",
       "      <td>NaN</td>\n",
       "      <td>NaN</td>\n",
       "      <td>NaN</td>\n",
       "      <td>NaN</td>\n",
       "      <td>NaN</td>\n",
       "      <td>NaN</td>\n",
       "      <td>NaN</td>\n",
       "      <td>NaN</td>\n",
       "      <td>NaN</td>\n",
       "      <td>NaN</td>\n",
       "    </tr>\n",
       "    <tr>\n",
       "      <th>2</th>\n",
       "      <td>http://www.billboard.com/charts/hot-100/1997-1...</td>\n",
       "      <td>10/11/1997</td>\n",
       "      <td>1</td>\n",
       "      <td>Candle In The Wind 1997/Something About The Wa...</td>\n",
       "      <td>Elton John</td>\n",
       "      <td>Candle In The Wind 1997/Something About The Wa...</td>\n",
       "      <td>1</td>\n",
       "      <td>NaN</td>\n",
       "      <td>1</td>\n",
       "      <td>1</td>\n",
       "      <td>...</td>\n",
       "      <td>NaN</td>\n",
       "      <td>NaN</td>\n",
       "      <td>NaN</td>\n",
       "      <td>NaN</td>\n",
       "      <td>NaN</td>\n",
       "      <td>NaN</td>\n",
       "      <td>NaN</td>\n",
       "      <td>NaN</td>\n",
       "      <td>NaN</td>\n",
       "      <td>NaN</td>\n",
       "    </tr>\n",
       "    <tr>\n",
       "      <th>3</th>\n",
       "      <td>http://www.billboard.com/charts/hot-100/2006-0...</td>\n",
       "      <td>7/1/2006</td>\n",
       "      <td>1</td>\n",
       "      <td>Do I Make You Proud</td>\n",
       "      <td>Taylor Hicks</td>\n",
       "      <td>Do I Make You ProudTaylor Hicks</td>\n",
       "      <td>1</td>\n",
       "      <td>NaN</td>\n",
       "      <td>1</td>\n",
       "      <td>1</td>\n",
       "      <td>...</td>\n",
       "      <td>NaN</td>\n",
       "      <td>NaN</td>\n",
       "      <td>NaN</td>\n",
       "      <td>NaN</td>\n",
       "      <td>NaN</td>\n",
       "      <td>NaN</td>\n",
       "      <td>NaN</td>\n",
       "      <td>NaN</td>\n",
       "      <td>NaN</td>\n",
       "      <td>NaN</td>\n",
       "    </tr>\n",
       "    <tr>\n",
       "      <th>4</th>\n",
       "      <td>http://www.billboard.com/charts/hot-100/2009-1...</td>\n",
       "      <td>10/24/2009</td>\n",
       "      <td>1</td>\n",
       "      <td>3</td>\n",
       "      <td>Britney Spears</td>\n",
       "      <td>3Britney Spears</td>\n",
       "      <td>1</td>\n",
       "      <td>NaN</td>\n",
       "      <td>1</td>\n",
       "      <td>1</td>\n",
       "      <td>...</td>\n",
       "      <td>NaN</td>\n",
       "      <td>NaN</td>\n",
       "      <td>NaN</td>\n",
       "      <td>NaN</td>\n",
       "      <td>NaN</td>\n",
       "      <td>NaN</td>\n",
       "      <td>NaN</td>\n",
       "      <td>NaN</td>\n",
       "      <td>NaN</td>\n",
       "      <td>NaN</td>\n",
       "    </tr>\n",
       "    <tr>\n",
       "      <th>...</th>\n",
       "      <td>...</td>\n",
       "      <td>...</td>\n",
       "      <td>...</td>\n",
       "      <td>...</td>\n",
       "      <td>...</td>\n",
       "      <td>...</td>\n",
       "      <td>...</td>\n",
       "      <td>...</td>\n",
       "      <td>...</td>\n",
       "      <td>...</td>\n",
       "      <td>...</td>\n",
       "      <td>...</td>\n",
       "      <td>...</td>\n",
       "      <td>...</td>\n",
       "      <td>...</td>\n",
       "      <td>...</td>\n",
       "      <td>...</td>\n",
       "      <td>...</td>\n",
       "      <td>...</td>\n",
       "      <td>...</td>\n",
       "      <td>...</td>\n",
       "    </tr>\n",
       "    <tr>\n",
       "      <th>320490</th>\n",
       "      <td>https://www.billboard.com/charts/hot-100/2019-...</td>\n",
       "      <td>1/5/2019</td>\n",
       "      <td>8</td>\n",
       "      <td>Jingle Bell Rock</td>\n",
       "      <td>Bobby Helms</td>\n",
       "      <td>Jingle Bell RockBobby Helms</td>\n",
       "      <td>7</td>\n",
       "      <td>13.0</td>\n",
       "      <td>8</td>\n",
       "      <td>25</td>\n",
       "      <td>...</td>\n",
       "      <td>0.0</td>\n",
       "      <td>0.0</td>\n",
       "      <td>0.0</td>\n",
       "      <td>0.0</td>\n",
       "      <td>0.0</td>\n",
       "      <td>0.0</td>\n",
       "      <td>0.0</td>\n",
       "      <td>0.0</td>\n",
       "      <td>0.0</td>\n",
       "      <td>0.0</td>\n",
       "    </tr>\n",
       "    <tr>\n",
       "      <th>320491</th>\n",
       "      <td>https://www.billboard.com/charts/hot-100/2019-...</td>\n",
       "      <td>12/7/2019</td>\n",
       "      <td>47</td>\n",
       "      <td>Jingle Bell Rock</td>\n",
       "      <td>Bobby Helms</td>\n",
       "      <td>Jingle Bell RockBobby Helms</td>\n",
       "      <td>8</td>\n",
       "      <td>NaN</td>\n",
       "      <td>47</td>\n",
       "      <td>26</td>\n",
       "      <td>...</td>\n",
       "      <td>0.0</td>\n",
       "      <td>0.0</td>\n",
       "      <td>0.0</td>\n",
       "      <td>0.0</td>\n",
       "      <td>0.0</td>\n",
       "      <td>0.0</td>\n",
       "      <td>0.0</td>\n",
       "      <td>0.0</td>\n",
       "      <td>0.0</td>\n",
       "      <td>0.0</td>\n",
       "    </tr>\n",
       "    <tr>\n",
       "      <th>320492</th>\n",
       "      <td>https://www.billboard.com/charts/hot-100/2019-...</td>\n",
       "      <td>12/14/2019</td>\n",
       "      <td>23</td>\n",
       "      <td>Jingle Bell Rock</td>\n",
       "      <td>Bobby Helms</td>\n",
       "      <td>Jingle Bell RockBobby Helms</td>\n",
       "      <td>8</td>\n",
       "      <td>47.0</td>\n",
       "      <td>23</td>\n",
       "      <td>27</td>\n",
       "      <td>...</td>\n",
       "      <td>0.0</td>\n",
       "      <td>0.0</td>\n",
       "      <td>0.0</td>\n",
       "      <td>0.0</td>\n",
       "      <td>0.0</td>\n",
       "      <td>0.0</td>\n",
       "      <td>0.0</td>\n",
       "      <td>0.0</td>\n",
       "      <td>0.0</td>\n",
       "      <td>0.0</td>\n",
       "    </tr>\n",
       "    <tr>\n",
       "      <th>320493</th>\n",
       "      <td>https://www.billboard.com/charts/hot-100/2019-...</td>\n",
       "      <td>12/21/2019</td>\n",
       "      <td>15</td>\n",
       "      <td>Jingle Bell Rock</td>\n",
       "      <td>Bobby Helms</td>\n",
       "      <td>Jingle Bell RockBobby Helms</td>\n",
       "      <td>8</td>\n",
       "      <td>23.0</td>\n",
       "      <td>15</td>\n",
       "      <td>28</td>\n",
       "      <td>...</td>\n",
       "      <td>0.0</td>\n",
       "      <td>0.0</td>\n",
       "      <td>0.0</td>\n",
       "      <td>0.0</td>\n",
       "      <td>0.0</td>\n",
       "      <td>0.0</td>\n",
       "      <td>0.0</td>\n",
       "      <td>0.0</td>\n",
       "      <td>0.0</td>\n",
       "      <td>0.0</td>\n",
       "    </tr>\n",
       "    <tr>\n",
       "      <th>320494</th>\n",
       "      <td>https://www.billboard.com/charts/hot-100/2019-...</td>\n",
       "      <td>12/28/2019</td>\n",
       "      <td>9</td>\n",
       "      <td>Jingle Bell Rock</td>\n",
       "      <td>Bobby Helms</td>\n",
       "      <td>Jingle Bell RockBobby Helms</td>\n",
       "      <td>8</td>\n",
       "      <td>15.0</td>\n",
       "      <td>9</td>\n",
       "      <td>29</td>\n",
       "      <td>...</td>\n",
       "      <td>0.0</td>\n",
       "      <td>0.0</td>\n",
       "      <td>0.0</td>\n",
       "      <td>0.0</td>\n",
       "      <td>0.0</td>\n",
       "      <td>0.0</td>\n",
       "      <td>0.0</td>\n",
       "      <td>0.0</td>\n",
       "      <td>0.0</td>\n",
       "      <td>0.0</td>\n",
       "    </tr>\n",
       "  </tbody>\n",
       "</table>\n",
       "<p>320495 rows × 1147 columns</p>\n",
       "</div>"
      ],
      "text/plain": [
       "                                                      url      WeekID  \\\n",
       "0       http://www.billboard.com/charts/hot-100/1958-0...    8/2/1958   \n",
       "1       http://www.billboard.com/charts/hot-100/1995-1...   12/2/1995   \n",
       "2       http://www.billboard.com/charts/hot-100/1997-1...  10/11/1997   \n",
       "3       http://www.billboard.com/charts/hot-100/2006-0...    7/1/2006   \n",
       "4       http://www.billboard.com/charts/hot-100/2009-1...  10/24/2009   \n",
       "...                                                   ...         ...   \n",
       "320490  https://www.billboard.com/charts/hot-100/2019-...    1/5/2019   \n",
       "320491  https://www.billboard.com/charts/hot-100/2019-...   12/7/2019   \n",
       "320492  https://www.billboard.com/charts/hot-100/2019-...  12/14/2019   \n",
       "320493  https://www.billboard.com/charts/hot-100/2019-...  12/21/2019   \n",
       "320494  https://www.billboard.com/charts/hot-100/2019-...  12/28/2019   \n",
       "\n",
       "        Week Position                                               Song  \\\n",
       "0                   1                                   Poor Little Fool   \n",
       "1                   1                                      One Sweet Day   \n",
       "2                   1  Candle In The Wind 1997/Something About The Wa...   \n",
       "3                   1                                Do I Make You Proud   \n",
       "4                   1                                                  3   \n",
       "...               ...                                                ...   \n",
       "320490              8                                   Jingle Bell Rock   \n",
       "320491             47                                   Jingle Bell Rock   \n",
       "320492             23                                   Jingle Bell Rock   \n",
       "320493             15                                   Jingle Bell Rock   \n",
       "320494              9                                   Jingle Bell Rock   \n",
       "\n",
       "                         Performer  \\\n",
       "0                     Ricky Nelson   \n",
       "1       Mariah Carey & Boyz II Men   \n",
       "2                       Elton John   \n",
       "3                     Taylor Hicks   \n",
       "4                   Britney Spears   \n",
       "...                            ...   \n",
       "320490                 Bobby Helms   \n",
       "320491                 Bobby Helms   \n",
       "320492                 Bobby Helms   \n",
       "320493                 Bobby Helms   \n",
       "320494                 Bobby Helms   \n",
       "\n",
       "                                                   SongID  Instance  \\\n",
       "0                            Poor Little FoolRicky Nelson         1   \n",
       "1                 One Sweet DayMariah Carey & Boyz II Men         1   \n",
       "2       Candle In The Wind 1997/Something About The Wa...         1   \n",
       "3                         Do I Make You ProudTaylor Hicks         1   \n",
       "4                                         3Britney Spears         1   \n",
       "...                                                   ...       ...   \n",
       "320490                        Jingle Bell RockBobby Helms         7   \n",
       "320491                        Jingle Bell RockBobby Helms         8   \n",
       "320492                        Jingle Bell RockBobby Helms         8   \n",
       "320493                        Jingle Bell RockBobby Helms         8   \n",
       "320494                        Jingle Bell RockBobby Helms         8   \n",
       "\n",
       "        Previous Week Position  Peak Position  Weeks on Chart  ... worship  \\\n",
       "0                          NaN              1               1  ...     NaN   \n",
       "1                          NaN              1               1  ...     NaN   \n",
       "2                          NaN              1               1  ...     NaN   \n",
       "3                          NaN              1               1  ...     NaN   \n",
       "4                          NaN              1               1  ...     NaN   \n",
       "...                        ...            ...             ...  ...     ...   \n",
       "320490                    13.0              8              25  ...     0.0   \n",
       "320491                     NaN             47              26  ...     0.0   \n",
       "320492                    47.0             23              27  ...     0.0   \n",
       "320493                    23.0             15              28  ...     0.0   \n",
       "320494                    15.0              9              29  ...     0.0   \n",
       "\n",
       "       wrestling wu fam xhosa  yacht rock  ye ye  yodeling  yugoslav rock  \\\n",
       "0            NaN    NaN   NaN         NaN    NaN       NaN            NaN   \n",
       "1            NaN    NaN   NaN         NaN    NaN       NaN            NaN   \n",
       "2            NaN    NaN   NaN         NaN    NaN       NaN            NaN   \n",
       "3            NaN    NaN   NaN         NaN    NaN       NaN            NaN   \n",
       "4            NaN    NaN   NaN         NaN    NaN       NaN            NaN   \n",
       "...          ...    ...   ...         ...    ...       ...            ...   \n",
       "320490       0.0    0.0   0.0         0.0    0.0       0.0            0.0   \n",
       "320491       0.0    0.0   0.0         0.0    0.0       0.0            0.0   \n",
       "320492       0.0    0.0   0.0         0.0    0.0       0.0            0.0   \n",
       "320493       0.0    0.0   0.0         0.0    0.0       0.0            0.0   \n",
       "320494       0.0    0.0   0.0         0.0    0.0       0.0            0.0   \n",
       "\n",
       "        zolo  zydeco  \n",
       "0        NaN     NaN  \n",
       "1        NaN     NaN  \n",
       "2        NaN     NaN  \n",
       "3        NaN     NaN  \n",
       "4        NaN     NaN  \n",
       "...      ...     ...  \n",
       "320490   0.0     0.0  \n",
       "320491   0.0     0.0  \n",
       "320492   0.0     0.0  \n",
       "320493   0.0     0.0  \n",
       "320494   0.0     0.0  \n",
       "\n",
       "[320495 rows x 1147 columns]"
      ]
     },
     "execution_count": 6,
     "metadata": {},
     "output_type": "execute_result"
    }
   ],
   "source": [
    "# convertendo para o mesmo tipo, pra poder fazer um join\n",
    "features['SongID'].astype('object', copy=False)\n",
    "hot['SongID'].astype('object', copy=False)\n",
    "df = hot.merge(features.drop(['Song', 'Performer'], axis=1), on='SongID', how='left')\n",
    "df"
   ]
  },
  {
   "cell_type": "code",
   "execution_count": null,
   "metadata": {
    "id": "yghuE1Jbfv4j"
   },
   "outputs": [],
   "source": []
  },
  {
   "cell_type": "code",
   "execution_count": null,
   "metadata": {
    "colab": {
     "base_uri": "https://localhost:8080/",
     "height": 926
    },
    "id": "rdmRBFUHVc9q",
    "outputId": "9e2c54fd-7c54-4c7d-f7b6-1d82ec21215e"
   },
   "outputs": [],
   "source": [
    "caracteristicas = ['spotify_track_explicit',\n",
    "                   'spotify_track_duration_ms',\n",
    "                   'spotify_track_popularity',\n",
    "                   'danceability',\n",
    "                   'energy',\n",
    "                   'key',\n",
    "                   'loudness',\n",
    "                   'mode',\n",
    "                   'speechiness',\n",
    "                   'acousticness',\n",
    "                   'instrumentalness',\n",
    "                   'liveness',\n",
    "                   'valence',\n",
    "                   'tempo',\n",
    "                   'time_signature']\n",
    "\n",
    "# 'key', 'mode', 'spotify_track_explicit' são categóricas\n",
    "numericas = ['spotify_track_duration_ms',\n",
    "             'spotify_track_popularity',\n",
    "             'danceability',\n",
    "             'energy',\n",
    "             'loudness',\n",
    "             'speechiness',\n",
    "             'acousticness',\n",
    "             'instrumentalness',\n",
    "             'liveness',\n",
    "             'valence',\n",
    "             'tempo',\n",
    "             'time_signature']\n",
    "\n",
    "# separando X e Y\n",
    "y = df['Week Position'].copy()\n",
    "X = df[caracteristicas].copy()\n",
    "\n",
    "# eliminando NaNs\n",
    "y = y[(X == X).all(axis=1)]\n",
    "X = X[(X == X).all(axis=1)]"
   ]
  },
  {
   "cell_type": "code",
   "execution_count": null,
   "metadata": {
    "id": "Y8DB4lBSVdHY"
   },
   "outputs": [],
   "source": [
    "# separando grupos de teste e validação\n",
    "\n",
    "X_train, X_test, y_train, y_test = train_test_split(X, y, test_size=0.25)\n",
    "print(X_train.shape, X_test.shape)\n"
   ]
  },
  {
   "cell_type": "code",
   "execution_count": null,
   "metadata": {},
   "outputs": [],
   "source": [
    "# z-normalizando\n",
    "\n",
    "mean = np.mean(X_train[numericas])\n",
    "std = np.std(X_train[numericas], ddof=1)\n",
    "\n",
    "Z_train = X_train.copy()\n",
    "Z_train[numericas] = X_train[numericas] - mean\n",
    "Z_train[numericas] = Z_train[numericas] / std\n",
    "\n",
    "Z_test = X_test.copy()\n",
    "Z_test[numericas] = X_test[numericas] - mean\n",
    "Z_test[numericas] = Z_test[numericas] / std"
   ]
  },
  {
   "cell_type": "code",
   "execution_count": null,
   "metadata": {},
   "outputs": [],
   "source": [
    "# Melhor k = 5\n",
    "# definindo aqui para não ter que rodar a célula de baixo toda vez\n",
    "k = 5"
   ]
  },
  {
   "cell_type": "code",
   "execution_count": null,
   "metadata": {},
   "outputs": [],
   "source": [
    "# procurando o melhor k\n",
    "# demora um pouco\n",
    "\n",
    "model = KNeighborsClassifier()\n",
    "param = {'n_neighbors' : [1, 3, 5, 7, 9, 11, 13, 15]}\n",
    "grid = GridSearchCV(model, param, cv=5)\n",
    "grid.fit(Z_train, y_train)\n",
    "k = grid.best_params_['n_neighbors']\n",
    "k"
   ]
  },
  {
   "cell_type": "code",
   "execution_count": null,
   "metadata": {},
   "outputs": [],
   "source": [
    "from sklearn.metrics import precision_score\n",
    "from sklearn.metrics import recall_score\n",
    "from sklearn.metrics import accuracy_score\n",
    "from sklearn.metrics import f1_score"
   ]
  },
  {
   "cell_type": "code",
   "execution_count": null,
   "metadata": {},
   "outputs": [],
   "source": [
    "model = KNeighborsClassifier(n_neighbors=k)\n",
    "model.fit(Z_train, y_train)\n",
    "prev = model.predict(Z_test)\n",
    "\n",
    "precisao = precision_score(y_test, prev, average='micro')\n",
    "revocacao = recall_score(y_test, prev, average='micro')\n",
    "acuracia = accuracy_score(y_test, prev)\n",
    "f1 = f1_score(y_test, prev, average='micro')\n",
    "print(precisao, revocacao, acuracia, f1)"
   ]
  },
  {
   "cell_type": "markdown",
   "metadata": {
    "id": "1vkvB8Y6Ud0C"
   },
   "source": [
    "<h1>1. O gênero da música influencia seu tempo (BPM)?</h1>"
   ]
  },
  {
   "cell_type": "code",
   "execution_count": null,
   "metadata": {},
   "outputs": [],
   "source": [
    "df"
   ]
  },
  {
   "cell_type": "code",
   "execution_count": null,
   "metadata": {},
   "outputs": [],
   "source": [
    "X = df[genres].copy()\n",
    "y = df['tempo'].copy()\n",
    "y"
   ]
  },
  {
   "cell_type": "code",
   "execution_count": null,
   "metadata": {},
   "outputs": [],
   "source": [
    "# removendo linhas com gêneros NaNs\n",
    "not_nans = (X == X).all(axis=1)\n",
    "y = y[not_nans]\n",
    "X = X[not_nans]\n",
    "\n",
    "# removendo linhas com tempo NaN\n",
    "not_nans = (y == y)\n",
    "y = y[not_nans]\n",
    "X = X[not_nans]"
   ]
  },
  {
   "cell_type": "code",
   "execution_count": null,
   "metadata": {},
   "outputs": [],
   "source": [
    "X"
   ]
  },
  {
   "cell_type": "code",
   "execution_count": null,
   "metadata": {},
   "outputs": [],
   "source": [
    "y"
   ]
  },
  {
   "cell_type": "code",
   "execution_count": null,
   "metadata": {},
   "outputs": [],
   "source": [
    "#import seaborn as sns\n",
    "#xy = X\n",
    "#xy['tempo'] = y\n",
    "#sns.pairplot(xy, diag_kws={'edgecolor':'k'}, plot_kws={'alpha':0.5, 'edgecolor':'k'})"
   ]
  },
  {
   "cell_type": "code",
   "execution_count": null,
   "metadata": {},
   "outputs": [],
   "source": [
    "from sklearn.linear_model import LinearRegression"
   ]
  },
  {
   "cell_type": "code",
   "execution_count": null,
   "metadata": {},
   "outputs": [],
   "source": [
    "X_train, X_test, y_train, y_test = train_test_split(X, y, test_size=0.3)"
   ]
  },
  {
   "cell_type": "code",
   "execution_count": null,
   "metadata": {},
   "outputs": [],
   "source": [
    "X_train"
   ]
  },
  {
   "cell_type": "code",
   "execution_count": null,
   "metadata": {},
   "outputs": [],
   "source": [
    "y_train"
   ]
  },
  {
   "cell_type": "code",
   "execution_count": null,
   "metadata": {},
   "outputs": [],
   "source": [
    "lg = LinearRegression(fit_intercept=False)\n",
    "lg.fit(X_train, y_train)"
   ]
  },
  {
   "cell_type": "code",
   "execution_count": null,
   "metadata": {},
   "outputs": [],
   "source": [
    "theta = lg.coef_\n",
    "theta"
   ]
  },
  {
   "cell_type": "code",
   "execution_count": null,
   "metadata": {},
   "outputs": [],
   "source": [
    "erro = X_train @ theta - y_train\n",
    "erro = erro.mean()\n",
    "erro"
   ]
  },
  {
   "cell_type": "code",
   "execution_count": null,
   "metadata": {},
   "outputs": [],
   "source": [
    "X_test.iloc[5] @ theta + erro"
   ]
  },
  {
   "cell_type": "code",
   "execution_count": null,
   "metadata": {},
   "outputs": [],
   "source": []
  },
  {
   "cell_type": "markdown",
   "metadata": {
    "id": "kO_DI7mkhqnk"
   },
   "source": [
    "<h3>Removendo músicas que não têm informações de gênero ou tempo</h3>"
   ]
  },
  {
   "cell_type": "code",
   "execution_count": null,
   "metadata": {
    "colab": {
     "base_uri": "https://localhost:8080/",
     "height": 402
    },
    "id": "iraZMOEVUaCd",
    "outputId": "bcad4afe-e8ac-4653-8e44-d0063f97aeab"
   },
   "outputs": [],
   "source": [
    "tempo = features[['spotify_genre', 'tempo']]\n",
    "\n",
    "#exclui músicas sem gênero\n",
    "tempo = tempo[tempo['spotify_genre'] != '[]']\n",
    "tempo = tempo[tempo['spotify_genre'] == tempo['spotify_genre']]\n",
    "\n",
    "#exclui músicas com tempo NaN\n",
    "tempo = tempo[tempo['tempo'] == tempo['tempo']]\n",
    "\n",
    "#tempo = tempo.head() # EXCLUIR EDEPOIS!!!!!!!!!!!!\n",
    "tempo"
   ]
  },
  {
   "cell_type": "markdown",
   "metadata": {
    "id": "mmZ1niGQh547"
   },
   "source": [
    "<h3>Quebrando as strings de gênero e deixando apenas um por linha</h3>\n",
    "<p>(Demora um pouquinho)</p>"
   ]
  },
  {
   "cell_type": "code",
   "execution_count": null,
   "metadata": {
    "colab": {
     "base_uri": "https://localhost:8080/",
     "height": 402
    },
    "id": "jo0fA_RXYFSk",
    "outputId": "344ef45a-86a8-4b6b-c261-304fe9f51c77"
   },
   "outputs": [],
   "source": [
    "novo = pd.DataFrame(columns=['spotify_genre', 'tempo'])\n",
    "\n",
    "for i, row in tempo.iterrows():\n",
    "  genres = row['spotify_genre']\n",
    "  genres = genres.split(\",\")\n",
    "\n",
    "  for g in genres:\n",
    "    # retira os colchetes e aspas dos nomes\n",
    "    g = re.sub(\"[\\[\\]\\'\\\"]|^ \", \"\", g)\n",
    "\n",
    "    # cria uma tupla com cada gênero da música e o tempo dela\n",
    "    linha = pd.DataFrame([g, tempo['tempo'][i]], index=['spotify_genre', 'tempo'])\n",
    "\n",
    "    # adiciona a tupla ao novo dataframe\n",
    "    novo = novo.append(linha.transpose(), ignore_index=True)\n",
    "\n",
    "tempo = novo\n",
    "tempo"
   ]
  },
  {
   "cell_type": "markdown",
   "metadata": {
    "id": "HjuDdNfhhlK5"
   },
   "source": [
    "<h3>Pronto pra testar a hipótese</h3>\n",
    "<p>Restringimos a hipótese para alguns gêneros, listados abaixo, devido à dificuldade de achar uma estatística adequada para comparação de muitas médias. Assim, poderemos usar um boxplot.</p>"
   ]
  },
  {
   "cell_type": "code",
   "execution_count": null,
   "metadata": {
    "id": "GjjcQhFpK63q"
   },
   "outputs": [],
   "source": [
    "generos = [\n",
    "'disco',\n",
    "'electro',\n",
    "'folk',\n",
    "'jazz',\n",
    "'pop',\n",
    "'salsa',\n",
    "'soul',\n",
    "'thrash metal',\n",
    "'vogue']"
   ]
  },
  {
   "cell_type": "code",
   "execution_count": null,
   "metadata": {
    "colab": {
     "base_uri": "https://localhost:8080/",
     "height": 416
    },
    "id": "1-Ooz1k3OLHP",
    "outputId": "771be49c-4497-4051-e177-b8926c294b51"
   },
   "outputs": [],
   "source": [
    "mydict = {}\n",
    "\n",
    "for g in generos:\n",
    "  bpm = tempo[tempo['spotify_genre'] == g]['tempo']\n",
    "  d = {g : bpm}\n",
    "  mydict.update(d)\n",
    "fig, ax = plt.subplots()\n",
    "ax.boxplot(mydict.values(), showfliers=False, widths=0.8, vert=False)\n",
    "ax.set_yticklabels(mydict.keys())"
   ]
  },
  {
   "cell_type": "code",
   "execution_count": null,
   "metadata": {
    "colab": {
     "base_uri": "https://localhost:8080/",
     "height": 34
    },
    "id": "Mk-LA7Q_XdZM",
    "outputId": "f1e9dd76-92e7-4871-a16d-40c2309c5573"
   },
   "outputs": [],
   "source": [
    "# Teste por permutação: pop x rock\n",
    "def dif_bpm_generos(df, a, b):\n",
    "  ma = df[df['spotify_genre'] == a]['tempo'].mean()\n",
    "  mb = df[df['spotify_genre'] == b]['tempo'].mean()\n",
    "  return ma - mb\n",
    "\n",
    "difreal = dif_bpm_generos(tempo, 'pop', 'rock')\n",
    "difreal"
   ]
  },
  {
   "cell_type": "code",
   "execution_count": null,
   "metadata": {
    "id": "Mz3muT-9Txtx"
   },
   "outputs": [],
   "source": [
    "qntdPerm = 3000\n",
    "perm = tempo.copy()\n",
    "perm = perm[perm['spotify_genre'].isin(['pop', 'rock'])]\n",
    "diferencas = np.zeros(qntdPerm)\n",
    "\n",
    "for i in range(qntdPerm):\n",
    "  perm['spotify_genre'] = np.random.permutation(perm['spotify_genre'])\n",
    "  diferencas[i] = dif_bpm_generos(perm, 'pop', 'rock')\n"
   ]
  },
  {
   "cell_type": "code",
   "execution_count": null,
   "metadata": {
    "colab": {
     "base_uri": "https://localhost:8080/",
     "height": 296
    },
    "id": "CPUEB9jrZlb0",
    "outputId": "65320dd0-703a-4596-93d2-e934740c2d0e"
   },
   "outputs": [],
   "source": [
    "plt.hist(diferencas, 50, edgecolor='black', density=1)\n",
    "plt.title(\"Diferença entre médias do tempo em BPM de músicas pop e rock\\nna hipótese nula com \" + str(qntdPerm) + \" permutações\")\n",
    "plt.axvline(difreal, color='red', label='redline')\n",
    "plt.legend([\"Diferença real\"], loc='upper left')\n",
    "plt.show()"
   ]
  },
  {
   "cell_type": "code",
   "execution_count": null,
   "metadata": {
    "id": "bH50gDOBiN1x"
   },
   "outputs": [],
   "source": []
  },
  {
   "cell_type": "markdown",
   "metadata": {
    "id": "mlvftk2YiBYG"
   },
   "source": [
    "Como é possível perceber pelo histograma acima, a diferença entre as médias de BPM das músicas categorizadas como pop e as categorizadas como rock gira em torno de 0 quando [acabar de escrever]"
   ]
  },
  {
   "cell_type": "code",
   "execution_count": null,
   "metadata": {
    "colab": {
     "base_uri": "https://localhost:8080/",
     "height": 407
    },
    "id": "vuUmRkePSoqx",
    "outputId": "3e9b8650-d71e-41b0-cc1d-b701325eb180"
   },
   "outputs": [],
   "source": [
    "fs_hot = hot.assign(popularity_points = lambda x: 100-x[\"Week Position\"])[['Song', 'Performer', 'popularity_points']]\n",
    "fs_grouped_popularity = (fs_hot.groupby(by=['Song','Performer']).sum())\n",
    "fs_merged = pd.merge(fs_grouped_popularity, features, how='inner', on=['Song','Performer'])[['Song', 'Performer', 'spotify_track_popularity', 'popularity_points']]\n"
   ]
  },
  {
   "cell_type": "code",
   "execution_count": null,
   "metadata": {
    "colab": {
     "base_uri": "https://localhost:8080/",
     "height": 407
    },
    "id": "40mJficvzVNf",
    "outputId": "30d68b33-012f-42f2-b641-f79eb8068f42"
   },
   "outputs": [],
   "source": [
    "fs_merged.sort_values(by=['popularity_points','spotify_track_popularity'],ascending=True)"
   ]
  },
  {
   "cell_type": "code",
   "execution_count": null,
   "metadata": {
    "colab": {
     "base_uri": "https://localhost:8080/",
     "height": 402
    },
    "id": "eFfseI2e23IZ",
    "outputId": "23e56678-4fb7-45a1-ec0c-1a28a4cab5b9"
   },
   "outputs": [],
   "source": [
    "import seaborn as sns\n",
    "sns.lmplot(x='popularity_points', y='spotify_track_popularity', data=fs_merged)"
   ]
  },
  {
   "cell_type": "markdown",
   "metadata": {
    "id": "mR3Wz0B3iiZg"
   },
   "source": [
    "# Limpeza dos Dados / Analise Exploratória\n",
    "\n"
   ]
  },
  {
   "cell_type": "markdown",
   "metadata": {
    "id": "MSCkY7pKi64n"
   },
   "source": [
    "dataframe hot"
   ]
  },
  {
   "cell_type": "code",
   "execution_count": null,
   "metadata": {
    "id": "sCUtRhTfilxz"
   },
   "outputs": [],
   "source": [
    "#retirei a coluna url \n",
    "hot = hot[[\n",
    "    'WeekID',\n",
    "    'Week Position',\n",
    "    'Song',\n",
    "    'Performer',\n",
    "    'SongID',\n",
    "    'Instance',\n",
    "    'Previous Week Position',\n",
    "    'Peak Position',\n",
    "    'Weeks on Chart',\n",
    "]]\n",
    "\n",
    "#adicionando coluna do ano em que a musica ficou no hot100\n",
    "hot['Ano']= hot['WeekID'].str.slice(-4)\n"
   ]
  },
  {
   "cell_type": "code",
   "execution_count": null,
   "metadata": {
    "id": "NLED430t6OEn"
   },
   "outputs": [],
   "source": [
    "#quantidade de musicas que entraram na hot 100 por ano\n",
    "songs_per_year = (hot.loc[(hot['Instance'] == 1)].groupby('SongID')\n",
    "                 .agg({'Ano': 'min'})\n",
    "                 .reset_index()\n",
    "                 .groupby('Ano')\n",
    "                 .agg({'SongID': 'count'})\n",
    "                 .reset_index()\n",
    "                 .rename(columns={'SongID':'n_songs'}))\n",
    "\n",
    "sns.set()\n",
    "\n",
    "# Tamanho default das figuras\n",
    "plt.rcParams['figure.figsize'] = (15.0, 9.0)\n",
    "\n",
    "sns.barplot(\n",
    "    songs_per_year['Ano'],\n",
    "    songs_per_year['n_songs'],\n",
    ")\n",
    "\n",
    "# Título do plot\n",
    "plt.title(\"Número de músicas que entraram no hot100 por ano\", fontsize=18)\n",
    "# Nome do eixo x\n",
    "plt.xlabel('Ano')\n",
    "# Nome do eixo y\n",
    "plt.ylabel('Número de músicas')\n",
    "plt.xticks(rotation=90)\n",
    "plt.show()"
   ]
  },
  {
   "cell_type": "markdown",
   "metadata": {
    "id": "X-E2Rb6ajG4y"
   },
   "source": [
    "dataframe features (adicao das colunas, ano, weeks on top1, weeks on chart, chart debut)\n",
    "\n",
    "retirei as colunas (\n"
   ]
  },
  {
   "cell_type": "code",
   "execution_count": null,
   "metadata": {
    "id": "00U1Oc7ki5N8"
   },
   "outputs": [],
   "source": [
    "#musicas que mais ficaram em primeiro lugar\n",
    "top1=hot.loc[(hot['Week Position'] == 1)].groupby('SongID').count()\n",
    "\n",
    "#musicas que mais permaneceram nas paradas\n",
    "weeksOnChart = hot.groupby('SongID').max()\n",
    "\n",
    "#musicas que estreiaram no top10\n",
    "chartDebut = hot.loc[(hot['Previous Week Position'].isnull())].groupby('SongID').min().sort_values(by='Week Position')\n",
    "\n",
    "#adicionando coluna de anos no df de features\n",
    "features['ano'] = features.SongID.map(hot.set_index('SongID')['Ano'].to_dict())\n",
    "\n",
    "#adicionando coluna de quantidade de semanas em primeiro no df de features\n",
    "features['weeks on top1'] = features.SongID.map(top1['Week Position'].to_dict())\n",
    "\n",
    "#adicionando coluna quantidade de semanas que mais permaneceram no chart no df de features\n",
    "features['weeks on chart'] = features.SongID.map(weeksOnChart['Weeks on Chart'].to_dict())\n",
    "\n",
    "#adicionando coluna de top1 e top10 no df de features\n",
    "features['chart debut'] = features.SongID.map(chartDebut['Week Position'].to_dict())\n",
    "\n",
    "# Drop unnecessary columns\n",
    "features = features[[\n",
    "    'SongID',\n",
    "    'Performer',\n",
    "    'Song',\n",
    "    'spotify_genre',\n",
    "    'spotify_track_explicit',\n",
    "    'spotify_track_duration_ms',\n",
    "    'spotify_track_popularity',\n",
    "    'danceability',\n",
    "    'energy',\n",
    "    'key',\n",
    "    'loudness',\n",
    "    'mode',\n",
    "    'speechiness',\n",
    "    'acousticness',\n",
    "    'instrumentalness',\n",
    "    'liveness',\n",
    "    'valence',\n",
    "    'tempo',\n",
    "    'time_signature',\n",
    "    'ano',\n",
    "    'weeks on top1',\n",
    "    'weeks on chart',\n",
    "    'chart debut'\n",
    "]]\n",
    "\n",
    "features.sort_values(by='chart debut')"
   ]
  },
  {
   "cell_type": "markdown",
   "metadata": {
    "id": "l-ur4twT788J"
   },
   "source": [
    "# 3. Como foi a evolução das características das músicas mais ouvidas ao longo dos anos?"
   ]
  },
  {
   "cell_type": "code",
   "execution_count": null,
   "metadata": {
    "id": "ReBYZx0C78PU"
   },
   "outputs": [],
   "source": [
    "#pegar o ano em que a musica ficou no hot100\n",
    "hot['Ano']= hot['WeekID'].str.slice(-4)"
   ]
  },
  {
   "cell_type": "code",
   "execution_count": null,
   "metadata": {
    "id": "hw-Drrpc8dl6"
   },
   "outputs": [],
   "source": [
    "#adicionando coluna de Ano no df features\n",
    "features['ano'] = features.SongID.map(hot.set_index('SongID')['Ano'].to_dict())"
   ]
  },
  {
   "cell_type": "code",
   "execution_count": null,
   "metadata": {
    "id": "Tatb7t1E8gtN"
   },
   "outputs": [],
   "source": [
    "#media das caracteristicas das musicas em cada ano\n",
    "featuresMediaPorAno = features.groupby('ano').mean()"
   ]
  },
  {
   "cell_type": "code",
   "execution_count": null,
   "metadata": {
    "id": "RPj0TZM39ztR"
   },
   "outputs": [],
   "source": [
    "#numero de musicas com conteudo explicito por ano\n",
    "featuresExplicitPorAno = pd.DataFrame(features.groupby('ano').count()['spotify_track_explicit'])"
   ]
  },
  {
   "cell_type": "code",
   "execution_count": null,
   "metadata": {
    "id": "PRYJ9RU3A2P0"
   },
   "outputs": [],
   "source": [
    "#top genero musical ao longo dos anos \n",
    "#(precisa arrumar ainda)\n",
    "#topGenre= features.groupby(by=['spotify_genre','ano']).count().sort_values(by='SongID')['SongID'][::-1]"
   ]
  },
  {
   "cell_type": "code",
   "execution_count": null,
   "metadata": {
    "id": "mAYYYaixGjlB"
   },
   "outputs": [],
   "source": []
  }
 ],
 "metadata": {
  "colab": {
   "collapsed_sections": [],
   "name": "trabalho.ipynb",
   "provenance": []
  },
  "kernelspec": {
   "display_name": "Python 3",
   "language": "python",
   "name": "python3"
  },
  "language_info": {
   "codemirror_mode": {
    "name": "ipython",
    "version": 3
   },
   "file_extension": ".py",
   "mimetype": "text/x-python",
   "name": "python",
   "nbconvert_exporter": "python",
   "pygments_lexer": "ipython3",
   "version": "3.8.2"
  }
 },
 "nbformat": 4,
 "nbformat_minor": 1
}
